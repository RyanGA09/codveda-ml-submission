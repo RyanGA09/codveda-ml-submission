{
 "cells": [
  {
   "cell_type": "markdown",
   "metadata": {},
   "source": [
    "# Task 3: Build a Neural Network"
   ]
  },
  {
   "cell_type": "markdown",
   "metadata": {},
   "source": [
    "## Library"
   ]
  },
  {
   "cell_type": "code",
   "execution_count": 3,
   "metadata": {},
   "outputs": [],
   "source": [
    "# Import Library\n",
    "import os\n",
    "import pandas as pd\n",
    "import numpy as np\n",
    "import matplotlib.pyplot as plt\n",
    "from tensorflow.keras.models import Sequential\n",
    "from tensorflow.keras.layers import LSTM, Dense, Dropout, Bidirectional, BatchNormalization\n",
    "from tensorflow.keras.callbacks import EarlyStopping, ModelCheckpoint, ReduceLROnPlateau\n",
    "from tensorflow.keras.utils import to_categorical\n",
    "from tensorflow.keras.optimizers import RMSprop\n",
    "from sklearn.preprocessing import MinMaxScaler, LabelEncoder\n",
    "from sklearn.model_selection import train_test_split\n",
    "from sklearn.metrics import classification_report, confusion_matrix\n",
    "import seaborn as sns\n",
    "from datetime import datetime\n",
    "from imblearn.over_sampling import SMOTE"
   ]
  },
  {
   "cell_type": "markdown",
   "metadata": {},
   "source": [
    "## Load Data"
   ]
  },
  {
   "cell_type": "code",
   "execution_count": 4,
   "metadata": {},
   "outputs": [],
   "source": [
    "DATA_DIR = \"data\"\n",
    "os.makedirs(DATA_DIR, exist_ok=True)\n",
    "\n",
    "data_path = os.path.join(DATA_DIR, \"Stock Prices Data Set.csv\")\n",
    "data = pd.read_csv(data_path)"
   ]
  },
  {
   "cell_type": "code",
   "execution_count": 5,
   "metadata": {},
   "outputs": [
    {
     "name": "stdout",
     "output_type": "stream",
     "text": [
      "Stock Prices Data Shape: (497472, 7)\n"
     ]
    }
   ],
   "source": [
    "print(\"Stock Prices Data Shape:\", data.shape)"
   ]
  },
  {
   "cell_type": "code",
   "execution_count": 6,
   "metadata": {},
   "outputs": [
    {
     "name": "stdout",
     "output_type": "stream",
     "text": [
      "Stock Prices Data Preview:\n"
     ]
    },
    {
     "data": {
      "application/vnd.microsoft.datawrangler.viewer.v0+json": {
       "columns": [
        {
         "name": "index",
         "rawType": "int64",
         "type": "integer"
        },
        {
         "name": "symbol",
         "rawType": "object",
         "type": "string"
        },
        {
         "name": "date",
         "rawType": "object",
         "type": "string"
        },
        {
         "name": "open",
         "rawType": "float64",
         "type": "float"
        },
        {
         "name": "high",
         "rawType": "float64",
         "type": "float"
        },
        {
         "name": "low",
         "rawType": "float64",
         "type": "float"
        },
        {
         "name": "close",
         "rawType": "float64",
         "type": "float"
        },
        {
         "name": "volume",
         "rawType": "int64",
         "type": "integer"
        }
       ],
       "conversionMethod": "pd.DataFrame",
       "ref": "dd4d00c2-8295-4b42-a193-ad4a07de82dd",
       "rows": [
        [
         "0",
         "AAL",
         "2014-01-02",
         "25.07",
         "25.82",
         "25.06",
         "25.36",
         "8998943"
        ],
        [
         "1",
         "AAPL",
         "2014-01-02",
         "79.3828",
         "79.5756",
         "78.8601",
         "79.0185",
         "58791957"
        ],
        [
         "2",
         "AAP",
         "2014-01-02",
         "110.36",
         "111.88",
         "109.29",
         "109.74",
         "542711"
        ],
        [
         "3",
         "ABBV",
         "2014-01-02",
         "52.12",
         "52.33",
         "51.52",
         "51.98",
         "4569061"
        ],
        [
         "4",
         "ABC",
         "2014-01-02",
         "70.11",
         "70.23",
         "69.48",
         "69.89",
         "1148391"
        ]
       ],
       "shape": {
        "columns": 7,
        "rows": 5
       }
      },
      "text/html": [
       "<div>\n",
       "<style scoped>\n",
       "    .dataframe tbody tr th:only-of-type {\n",
       "        vertical-align: middle;\n",
       "    }\n",
       "\n",
       "    .dataframe tbody tr th {\n",
       "        vertical-align: top;\n",
       "    }\n",
       "\n",
       "    .dataframe thead th {\n",
       "        text-align: right;\n",
       "    }\n",
       "</style>\n",
       "<table border=\"1\" class=\"dataframe\">\n",
       "  <thead>\n",
       "    <tr style=\"text-align: right;\">\n",
       "      <th></th>\n",
       "      <th>symbol</th>\n",
       "      <th>date</th>\n",
       "      <th>open</th>\n",
       "      <th>high</th>\n",
       "      <th>low</th>\n",
       "      <th>close</th>\n",
       "      <th>volume</th>\n",
       "    </tr>\n",
       "  </thead>\n",
       "  <tbody>\n",
       "    <tr>\n",
       "      <th>0</th>\n",
       "      <td>AAL</td>\n",
       "      <td>2014-01-02</td>\n",
       "      <td>25.0700</td>\n",
       "      <td>25.8200</td>\n",
       "      <td>25.0600</td>\n",
       "      <td>25.3600</td>\n",
       "      <td>8998943</td>\n",
       "    </tr>\n",
       "    <tr>\n",
       "      <th>1</th>\n",
       "      <td>AAPL</td>\n",
       "      <td>2014-01-02</td>\n",
       "      <td>79.3828</td>\n",
       "      <td>79.5756</td>\n",
       "      <td>78.8601</td>\n",
       "      <td>79.0185</td>\n",
       "      <td>58791957</td>\n",
       "    </tr>\n",
       "    <tr>\n",
       "      <th>2</th>\n",
       "      <td>AAP</td>\n",
       "      <td>2014-01-02</td>\n",
       "      <td>110.3600</td>\n",
       "      <td>111.8800</td>\n",
       "      <td>109.2900</td>\n",
       "      <td>109.7400</td>\n",
       "      <td>542711</td>\n",
       "    </tr>\n",
       "    <tr>\n",
       "      <th>3</th>\n",
       "      <td>ABBV</td>\n",
       "      <td>2014-01-02</td>\n",
       "      <td>52.1200</td>\n",
       "      <td>52.3300</td>\n",
       "      <td>51.5200</td>\n",
       "      <td>51.9800</td>\n",
       "      <td>4569061</td>\n",
       "    </tr>\n",
       "    <tr>\n",
       "      <th>4</th>\n",
       "      <td>ABC</td>\n",
       "      <td>2014-01-02</td>\n",
       "      <td>70.1100</td>\n",
       "      <td>70.2300</td>\n",
       "      <td>69.4800</td>\n",
       "      <td>69.8900</td>\n",
       "      <td>1148391</td>\n",
       "    </tr>\n",
       "  </tbody>\n",
       "</table>\n",
       "</div>"
      ],
      "text/plain": [
       "  symbol        date      open      high       low     close    volume\n",
       "0    AAL  2014-01-02   25.0700   25.8200   25.0600   25.3600   8998943\n",
       "1   AAPL  2014-01-02   79.3828   79.5756   78.8601   79.0185  58791957\n",
       "2    AAP  2014-01-02  110.3600  111.8800  109.2900  109.7400    542711\n",
       "3   ABBV  2014-01-02   52.1200   52.3300   51.5200   51.9800   4569061\n",
       "4    ABC  2014-01-02   70.1100   70.2300   69.4800   69.8900   1148391"
      ]
     },
     "metadata": {},
     "output_type": "display_data"
    }
   ],
   "source": [
    "print(\"Stock Prices Data Preview:\")\n",
    "display(data.head())"
   ]
  },
  {
   "cell_type": "markdown",
   "metadata": {},
   "source": [
    "## Preprocessing"
   ]
  },
  {
   "cell_type": "code",
   "execution_count": 7,
   "metadata": {},
   "outputs": [],
   "source": [
    "# Convert and sort by date\n",
    "data[\"date\"] = pd.to_datetime(data[\"date\"])\n",
    "data.sort_values(by=[\"symbol\", \"date\"], inplace=True)"
   ]
  },
  {
   "cell_type": "code",
   "execution_count": 8,
   "metadata": {},
   "outputs": [],
   "source": [
    "# Remove duplicates if any\n",
    "data.drop_duplicates(subset=[\"symbol\", \"date\"], inplace=True)"
   ]
  },
  {
   "cell_type": "code",
   "execution_count": 9,
   "metadata": {},
   "outputs": [],
   "source": [
    "# Take the Top-N most frequently occurring symbol\n",
    "top_symbols = data['symbol'].value_counts().nlargest(10).index\n",
    "data = data[data['symbol'].isin(top_symbols)]"
   ]
  },
  {
   "cell_type": "code",
   "execution_count": 10,
   "metadata": {},
   "outputs": [],
   "source": [
    "# Encode target label\n",
    "label_encoder = LabelEncoder()\n",
    "data[\"symbol_encoded\"] = label_encoder.fit_transform(data[\"symbol\"])"
   ]
  },
  {
   "cell_type": "code",
   "execution_count": 11,
   "metadata": {},
   "outputs": [],
   "source": [
    "# Define features and target\n",
    "features = [\"open\", \"high\", \"low\", \"close\", \"volume\"]\n",
    "target = \"symbol_encoded\""
   ]
  },
  {
   "cell_type": "code",
   "execution_count": 12,
   "metadata": {},
   "outputs": [],
   "source": [
    "# Remove rows with missing or zero volume (if any)\n",
    "data = data.dropna(subset=features)\n",
    "data = data[data[\"volume\"] > 0]"
   ]
  },
  {
   "cell_type": "code",
   "execution_count": 13,
   "metadata": {},
   "outputs": [],
   "source": [
    "# Normalize features\n",
    "scaler = MinMaxScaler()\n",
    "data[features] = scaler.fit_transform(data[features])"
   ]
  },
  {
   "cell_type": "code",
   "execution_count": 14,
   "metadata": {},
   "outputs": [],
   "source": [
    "# Drop rows with NaN or inf after normalization\n",
    "data = data.replace([np.inf, -np.inf], np.nan)\n",
    "data = data.dropna()"
   ]
  },
  {
   "cell_type": "code",
   "execution_count": 15,
   "metadata": {},
   "outputs": [],
   "source": [
    "# Create sequences per stock symbol\n",
    "def create_symbol_sequences(df, time_steps=20):\n",
    "    X, y = [], []\n",
    "    symbols = df[\"symbol\"].unique()\n",
    "    for symbol in symbols:\n",
    "        temp = df[df[\"symbol\"] == symbol]\n",
    "        values = temp[features].values.astype(np.float32)\n",
    "        labels = temp[target].values\n",
    "        if len(values) <= time_steps:\n",
    "            continue\n",
    "        for i in range(len(values) - time_steps):\n",
    "            X.append(values[i:i+time_steps])\n",
    "            y.append(labels[i+time_steps])\n",
    "    return np.array(X), np.array(y)\n",
    "\n",
    "TIME_STEPS = 20\n",
    "X_seq, y_seq = create_symbol_sequences(data, time_steps=TIME_STEPS)"
   ]
  },
  {
   "cell_type": "code",
   "execution_count": 16,
   "metadata": {},
   "outputs": [
    {
     "name": "stdout",
     "output_type": "stream",
     "text": [
      "Total sequences created: 9870\n"
     ]
    }
   ],
   "source": [
    "print(f\"Total sequences created: {X_seq.shape[0]}\")"
   ]
  },
  {
   "cell_type": "code",
   "execution_count": 17,
   "metadata": {},
   "outputs": [
    {
     "name": "stdout",
     "output_type": "stream",
     "text": [
      "Input shape: (9870, 20, 5), Output shape: (9870,)\n"
     ]
    }
   ],
   "source": [
    "print(f\"Input shape: {X_seq.shape}, Output shape: {y_seq.shape}\")"
   ]
  },
  {
   "cell_type": "markdown",
   "metadata": {},
   "source": [
    "## Balancing Data"
   ]
  },
  {
   "cell_type": "code",
   "execution_count": 18,
   "metadata": {},
   "outputs": [],
   "source": [
    "# Balancing Data\n",
    "X_seq_reshape = X_seq.reshape(X_seq.shape[0], -1)\n",
    "smote = SMOTE(random_state=42)\n",
    "X_resampled, y_resampled = smote.fit_resample(X_seq_reshape, y_seq)\n",
    "X_seq = X_resampled.reshape(-1, TIME_STEPS, len(features))\n",
    "y_seq = y_resampled"
   ]
  },
  {
   "cell_type": "markdown",
   "metadata": {},
   "source": [
    "## Check label distribution"
   ]
  },
  {
   "cell_type": "code",
   "execution_count": 19,
   "metadata": {},
   "outputs": [],
   "source": [
    "# One Hot Encoding for Targets\n",
    "y_seq_cat = to_categorical(y_seq)"
   ]
  },
  {
   "cell_type": "markdown",
   "metadata": {},
   "source": [
    "## Check label distribution"
   ]
  },
  {
   "cell_type": "code",
   "execution_count": 20,
   "metadata": {},
   "outputs": [
    {
     "data": {
      "image/png": "[encoded data removed]",
      "text/plain": [
       "<Figure size 640x480 with 1 Axes>"
      ]
     },
     "metadata": {},
     "output_type": "display_data"
    }
   ],
   "source": [
    "# Check label distribution\n",
    "pd.Series(y_seq).value_counts(normalize=True).plot(kind='bar')\n",
    "plt.title(\"Label Distribution\")\n",
    "plt.show()"
   ]
  },
  {
   "cell_type": "markdown",
   "metadata": {},
   "source": [
    "## Split dataset"
   ]
  },
  {
   "cell_type": "code",
   "execution_count": 21,
   "metadata": {},
   "outputs": [],
   "source": [
    "# Split dataset\n",
    "X_train, X_test, y_train_cat, y_test_cat = train_test_split(\n",
    "    X_seq, y_seq_cat, test_size=0.2, random_state=42, stratify=y_seq\n",
    ")"
   ]
  },
  {
   "cell_type": "markdown",
   "metadata": {},
   "source": [
    "## Build Neural Network Model"
   ]
  },
  {
   "cell_type": "code",
   "execution_count": 22,
   "metadata": {},
   "outputs": [],
   "source": [
    "# Build Neural Network Model\n",
    "model = Sequential([\n",
    "    Bidirectional(LSTM(128, return_sequences=True), input_shape=(X_train.shape[1], X_train.shape[2])),\n",
    "    BatchNormalization(),\n",
    "    Dropout(0.3),\n",
    "    Bidirectional(LSTM(64, return_sequences=True)),\n",
    "    BatchNormalization(),\n",
    "    Dropout(0.3),\n",
    "    Bidirectional(LSTM(32)),\n",
    "    BatchNormalization(),\n",
    "    Dropout(0.3),\n",
    "    Dense(64, activation='relu'),\n",
    "    Dense(32, activation='relu'),\n",
    "    Dense(y_train_cat.shape[1], activation='softmax')\n",
    "])\n",
    "\n",
    "model.compile(optimizer=RMSprop(learning_rate=0.001), loss='categorical_crossentropy', metrics=['accuracy'])"
   ]
  },
  {
   "cell_type": "code",
   "execution_count": 23,
   "metadata": {},
   "outputs": [],
   "source": [
    "# Callbacks (use .h5 to avoid errors)\n",
    "now = datetime.now().strftime(\"%Y%m%d-%H%M%S\")\n",
    "model_path = f\"best_model_{now}.h5\"\n",
    "early_stop = EarlyStopping(monitor='val_loss', patience=5, restore_best_weights=True)\n",
    "checkpoint = ModelCheckpoint(\n",
    "    filepath=model_path,\n",
    "    monitor='val_accuracy',\n",
    "    save_best_only=True,\n",
    "    save_weights_only=False,\n",
    "    mode='max',\n",
    "    verbose=1\n",
    ")\n",
    "reduce_lr = ReduceLROnPlateau(monitor='val_loss', patience=3, factor=0.5, verbose=1)"
   ]
  },
  {
   "cell_type": "markdown",
   "metadata": {},
   "source": [
    "## Train Model"
   ]
  },
  {
   "cell_type": "code",
   "execution_count": 24,
   "metadata": {},
   "outputs": [
    {
     "name": "stdout",
     "output_type": "stream",
     "text": [
      "Epoch 1/50\n",
      "246/247 [============================>.] - ETA: 0s - loss: 1.2622 - accuracy: 0.5020\n",
      "Epoch 1: val_accuracy improved from -inf to 0.19149, saving model to best_model_20250407-094809.h5\n",
      "247/247 [==============================] - 17s 40ms/step - loss: 1.2615 - accuracy: 0.5020 - val_loss: 2.5938 - val_accuracy: 0.1915 - lr: 0.0010\n",
      "Epoch 2/50\n",
      "  5/247 [..............................] - ETA: 7s - loss: 1.0440 - accuracy: 0.5750"
     ]
    },
    {
     "name": "stderr",
     "output_type": "stream",
     "text": [
      "c:\\Users\\Ryan\\AppData\\Local\\Programs\\Python\\Python311\\Lib\\site-packages\\keras\\src\\engine\\training.py:3079: UserWarning: You are saving your model as an HDF5 file via `model.save()`. This file format is considered legacy. We recommend using instead the native Keras format, e.g. `model.save('my_model.keras')`.\n",
      "  saving_api.save_model(\n"
     ]
    },
    {
     "name": "stdout",
     "output_type": "stream",
     "text": [
      "247/247 [==============================] - ETA: 0s - loss: 1.0642 - accuracy: 0.5652\n",
      "Epoch 2: val_accuracy improved from 0.19149 to 0.44326, saving model to best_model_20250407-094809.h5\n",
      "247/247 [==============================] - 8s 31ms/step - loss: 1.0642 - accuracy: 0.5652 - val_loss: 1.5543 - val_accuracy: 0.4433 - lr: 0.0010\n",
      "Epoch 3/50\n",
      "246/247 [============================>.] - ETA: 0s - loss: 0.9671 - accuracy: 0.5990\n",
      "Epoch 3: val_accuracy improved from 0.44326 to 0.52229, saving model to best_model_20250407-094809.h5\n",
      "247/247 [==============================] - 8s 33ms/step - loss: 0.9671 - accuracy: 0.5990 - val_loss: 1.3012 - val_accuracy: 0.5223 - lr: 0.0010\n",
      "Epoch 4/50\n",
      "246/247 [============================>.] - ETA: 0s - loss: 0.9169 - accuracy: 0.6164\n",
      "Epoch 4: val_accuracy did not improve from 0.52229\n",
      "247/247 [==============================] - 7s 30ms/step - loss: 0.9166 - accuracy: 0.6166 - val_loss: 1.3016 - val_accuracy: 0.5071 - lr: 0.0010\n",
      "Epoch 5/50\n",
      "247/247 [==============================] - ETA: 0s - loss: 0.9056 - accuracy: 0.6203\n",
      "Epoch 5: val_accuracy improved from 0.52229 to 0.64083, saving model to best_model_20250407-094809.h5\n",
      "247/247 [==============================] - 7s 30ms/step - loss: 0.9056 - accuracy: 0.6203 - val_loss: 0.8418 - val_accuracy: 0.6408 - lr: 0.0010\n",
      "Epoch 6/50\n",
      "247/247 [==============================] - ETA: 0s - loss: 0.8711 - accuracy: 0.6329\n",
      "Epoch 6: val_accuracy did not improve from 0.64083\n",
      "247/247 [==============================] - 8s 31ms/step - loss: 0.8711 - accuracy: 0.6329 - val_loss: 0.7938 - val_accuracy: 0.6337 - lr: 0.0010\n",
      "Epoch 7/50\n",
      "247/247 [==============================] - ETA: 0s - loss: 0.8444 - accuracy: 0.6499\n",
      "Epoch 7: val_accuracy did not improve from 0.64083\n",
      "247/247 [==============================] - 8s 32ms/step - loss: 0.8444 - accuracy: 0.6499 - val_loss: 0.8770 - val_accuracy: 0.6241 - lr: 0.0010\n",
      "Epoch 8/50\n",
      "247/247 [==============================] - ETA: 0s - loss: 0.8528 - accuracy: 0.6369\n",
      "Epoch 8: val_accuracy did not improve from 0.64083\n",
      "247/247 [==============================] - 8s 32ms/step - loss: 0.8528 - accuracy: 0.6369 - val_loss: 0.8401 - val_accuracy: 0.6393 - lr: 0.0010\n",
      "Epoch 9/50\n",
      "247/247 [==============================] - ETA: 0s - loss: 0.8325 - accuracy: 0.6468\n",
      "Epoch 9: val_accuracy improved from 0.64083 to 0.70111, saving model to best_model_20250407-094809.h5\n",
      "247/247 [==============================] - 8s 32ms/step - loss: 0.8325 - accuracy: 0.6468 - val_loss: 0.7287 - val_accuracy: 0.7011 - lr: 0.0010\n",
      "Epoch 10/50\n",
      "247/247 [==============================] - ETA: 0s - loss: 0.8174 - accuracy: 0.6518\n",
      "Epoch 10: val_accuracy did not improve from 0.70111\n",
      "247/247 [==============================] - 8s 32ms/step - loss: 0.8174 - accuracy: 0.6518 - val_loss: 0.7814 - val_accuracy: 0.6667 - lr: 0.0010\n",
      "Epoch 11/50\n",
      "246/247 [============================>.] - ETA: 0s - loss: 0.8269 - accuracy: 0.6533\n",
      "Epoch 11: val_accuracy did not improve from 0.70111\n",
      "247/247 [==============================] - 8s 32ms/step - loss: 0.8261 - accuracy: 0.6535 - val_loss: 0.7033 - val_accuracy: 0.6869 - lr: 0.0010\n",
      "Epoch 12/50\n",
      "246/247 [============================>.] - ETA: 0s - loss: 0.7872 - accuracy: 0.6641\n",
      "Epoch 12: val_accuracy did not improve from 0.70111\n",
      "247/247 [==============================] - 8s 32ms/step - loss: 0.7868 - accuracy: 0.6644 - val_loss: 1.0133 - val_accuracy: 0.6130 - lr: 0.0010\n",
      "Epoch 13/50\n",
      "247/247 [==============================] - ETA: 0s - loss: 0.7889 - accuracy: 0.6711\n",
      "Epoch 13: val_accuracy did not improve from 0.70111\n",
      "247/247 [==============================] - 10s 41ms/step - loss: 0.7889 - accuracy: 0.6711 - val_loss: 0.8091 - val_accuracy: 0.6707 - lr: 0.0010\n",
      "Epoch 14/50\n",
      "246/247 [============================>.] - ETA: 0s - loss: 0.7708 - accuracy: 0.6747\n",
      "Epoch 14: val_accuracy improved from 0.70111 to 0.71327, saving model to best_model_20250407-094809.h5\n",
      "247/247 [==============================] - 10s 41ms/step - loss: 0.7703 - accuracy: 0.6749 - val_loss: 0.6803 - val_accuracy: 0.7133 - lr: 0.0010\n",
      "Epoch 15/50\n",
      "246/247 [============================>.] - ETA: 0s - loss: 0.7569 - accuracy: 0.6803\n",
      "Epoch 15: val_accuracy improved from 0.71327 to 0.71682, saving model to best_model_20250407-094809.h5\n",
      "247/247 [==============================] - 10s 41ms/step - loss: 0.7569 - accuracy: 0.6802 - val_loss: 0.6634 - val_accuracy: 0.7168 - lr: 0.0010\n",
      "Epoch 16/50\n",
      "246/247 [============================>.] - ETA: 0s - loss: 0.7498 - accuracy: 0.6843\n",
      "Epoch 16: val_accuracy did not improve from 0.71682\n",
      "247/247 [==============================] - 10s 42ms/step - loss: 0.7498 - accuracy: 0.6847 - val_loss: 0.7282 - val_accuracy: 0.6960 - lr: 0.0010\n",
      "Epoch 17/50\n",
      "246/247 [============================>.] - ETA: 0s - loss: 0.7410 - accuracy: 0.6955\n",
      "Epoch 17: val_accuracy did not improve from 0.71682\n",
      "247/247 [==============================] - 9s 38ms/step - loss: 0.7404 - accuracy: 0.6958 - val_loss: 0.6674 - val_accuracy: 0.7052 - lr: 0.0010\n",
      "Epoch 18/50\n",
      "246/247 [============================>.] - ETA: 0s - loss: 0.7317 - accuracy: 0.6954\n",
      "Epoch 18: val_accuracy improved from 0.71682 to 0.71783, saving model to best_model_20250407-094809.h5\n",
      "247/247 [==============================] - 8s 32ms/step - loss: 0.7313 - accuracy: 0.6954 - val_loss: 0.6403 - val_accuracy: 0.7178 - lr: 0.0010\n",
      "Epoch 19/50\n",
      "247/247 [==============================] - ETA: 0s - loss: 0.7151 - accuracy: 0.6991\n",
      "Epoch 19: val_accuracy improved from 0.71783 to 0.72847, saving model to best_model_20250407-094809.h5\n",
      "247/247 [==============================] - 8s 32ms/step - loss: 0.7151 - accuracy: 0.6991 - val_loss: 0.6360 - val_accuracy: 0.7285 - lr: 0.0010\n",
      "Epoch 20/50\n",
      "247/247 [==============================] - ETA: 0s - loss: 0.7203 - accuracy: 0.6968\n",
      "Epoch 20: val_accuracy did not improve from 0.72847\n",
      "247/247 [==============================] - 8s 32ms/step - loss: 0.7203 - accuracy: 0.6968 - val_loss: 0.6322 - val_accuracy: 0.7204 - lr: 0.0010\n",
      "Epoch 21/50\n",
      "246/247 [============================>.] - ETA: 0s - loss: 0.6967 - accuracy: 0.7067\n",
      "Epoch 21: val_accuracy did not improve from 0.72847\n",
      "247/247 [==============================] - 8s 32ms/step - loss: 0.6963 - accuracy: 0.7069 - val_loss: 0.7563 - val_accuracy: 0.7006 - lr: 0.0010\n",
      "Epoch 22/50\n",
      "247/247 [==============================] - ETA: 0s - loss: 0.6871 - accuracy: 0.7115\n",
      "Epoch 22: val_accuracy did not improve from 0.72847\n",
      "247/247 [==============================] - 8s 32ms/step - loss: 0.6871 - accuracy: 0.7115 - val_loss: 0.6838 - val_accuracy: 0.7138 - lr: 0.0010\n",
      "Epoch 23/50\n",
      "247/247 [==============================] - ETA: 0s - loss: 0.6774 - accuracy: 0.7095\n",
      "Epoch 23: val_accuracy did not improve from 0.72847\n",
      "247/247 [==============================] - 8s 32ms/step - loss: 0.6774 - accuracy: 0.7095 - val_loss: 0.6139 - val_accuracy: 0.7219 - lr: 0.0010\n",
      "Epoch 24/50\n",
      "247/247 [==============================] - ETA: 0s - loss: 0.6751 - accuracy: 0.7149\n",
      "Epoch 24: val_accuracy did not improve from 0.72847\n",
      "247/247 [==============================] - 8s 32ms/step - loss: 0.6751 - accuracy: 0.7149 - val_loss: 0.7857 - val_accuracy: 0.6884 - lr: 0.0010\n",
      "Epoch 25/50\n",
      "246/247 [============================>.] - ETA: 0s - loss: 0.6585 - accuracy: 0.7168\n",
      "Epoch 25: val_accuracy did not improve from 0.72847\n",
      "247/247 [==============================] - 8s 32ms/step - loss: 0.6588 - accuracy: 0.7167 - val_loss: 0.6354 - val_accuracy: 0.7244 - lr: 0.0010\n",
      "Epoch 26/50\n",
      "246/247 [============================>.] - ETA: 0s - loss: 0.6701 - accuracy: 0.7241\n",
      "Epoch 26: val_accuracy did not improve from 0.72847\n",
      "\n",
      "Epoch 26: ReduceLROnPlateau reducing learning rate to 0.0005000000237487257.\n",
      "247/247 [==============================] - 8s 32ms/step - loss: 0.6711 - accuracy: 0.7243 - val_loss: 0.7158 - val_accuracy: 0.6950 - lr: 0.0010\n",
      "Epoch 27/50\n",
      "246/247 [============================>.] - ETA: 0s - loss: 0.6093 - accuracy: 0.7442\n",
      "Epoch 27: val_accuracy improved from 0.72847 to 0.77254, saving model to best_model_20250407-094809.h5\n",
      "247/247 [==============================] - 9s 36ms/step - loss: 0.6091 - accuracy: 0.7444 - val_loss: 0.5141 - val_accuracy: 0.7725 - lr: 5.0000e-04\n",
      "Epoch 28/50\n",
      "247/247 [==============================] - ETA: 0s - loss: 0.6027 - accuracy: 0.7468\n",
      "Epoch 28: val_accuracy did not improve from 0.77254\n",
      "247/247 [==============================] - 10s 42ms/step - loss: 0.6027 - accuracy: 0.7468 - val_loss: 0.5727 - val_accuracy: 0.7477 - lr: 5.0000e-04\n",
      "Epoch 29/50\n",
      "247/247 [==============================] - ETA: 0s - loss: 0.5903 - accuracy: 0.7439\n",
      "Epoch 29: val_accuracy improved from 0.77254 to 0.77710, saving model to best_model_20250407-094809.h5\n",
      "247/247 [==============================] - 10s 40ms/step - loss: 0.5903 - accuracy: 0.7439 - val_loss: 0.5060 - val_accuracy: 0.7771 - lr: 5.0000e-04\n",
      "Epoch 30/50\n",
      "247/247 [==============================] - ETA: 0s - loss: 0.5801 - accuracy: 0.7506\n",
      "Epoch 30: val_accuracy did not improve from 0.77710\n",
      "247/247 [==============================] - 10s 39ms/step - loss: 0.5801 - accuracy: 0.7506 - val_loss: 0.5880 - val_accuracy: 0.7533 - lr: 5.0000e-04\n",
      "Epoch 31/50\n",
      "247/247 [==============================] - ETA: 0s - loss: 0.5819 - accuracy: 0.7546\n",
      "Epoch 31: val_accuracy did not improve from 0.77710\n",
      "247/247 [==============================] - 10s 40ms/step - loss: 0.5819 - accuracy: 0.7546 - val_loss: 0.5319 - val_accuracy: 0.7660 - lr: 5.0000e-04\n",
      "Epoch 32/50\n",
      "246/247 [============================>.] - ETA: 0s - loss: 0.5699 - accuracy: 0.7622\n",
      "Epoch 32: val_accuracy did not improve from 0.77710\n",
      "\n",
      "Epoch 32: ReduceLROnPlateau reducing learning rate to 0.0002500000118743628.\n",
      "247/247 [==============================] - 10s 39ms/step - loss: 0.5695 - accuracy: 0.7623 - val_loss: 0.5360 - val_accuracy: 0.7528 - lr: 5.0000e-04\n",
      "Epoch 33/50\n",
      "246/247 [============================>.] - ETA: 0s - loss: 0.5519 - accuracy: 0.7692\n",
      "Epoch 33: val_accuracy did not improve from 0.77710\n",
      "247/247 [==============================] - 8s 33ms/step - loss: 0.5523 - accuracy: 0.7691 - val_loss: 0.5099 - val_accuracy: 0.7710 - lr: 2.5000e-04\n",
      "Epoch 34/50\n",
      "247/247 [==============================] - ETA: 0s - loss: 0.5430 - accuracy: 0.7651\n",
      "Epoch 34: val_accuracy improved from 0.77710 to 0.78419, saving model to best_model_20250407-094809.h5\n",
      "247/247 [==============================] - 8s 33ms/step - loss: 0.5430 - accuracy: 0.7651 - val_loss: 0.4882 - val_accuracy: 0.7842 - lr: 2.5000e-04\n",
      "Epoch 35/50\n",
      "246/247 [============================>.] - ETA: 0s - loss: 0.5304 - accuracy: 0.7748\n",
      "Epoch 35: val_accuracy improved from 0.78419 to 0.79382, saving model to best_model_20250407-094809.h5\n",
      "247/247 [==============================] - 8s 32ms/step - loss: 0.5298 - accuracy: 0.7752 - val_loss: 0.4689 - val_accuracy: 0.7938 - lr: 2.5000e-04\n",
      "Epoch 36/50\n",
      "247/247 [==============================] - ETA: 0s - loss: 0.5203 - accuracy: 0.7765\n",
      "Epoch 36: val_accuracy did not improve from 0.79382\n",
      "247/247 [==============================] - 8s 32ms/step - loss: 0.5203 - accuracy: 0.7765 - val_loss: 0.4975 - val_accuracy: 0.7665 - lr: 2.5000e-04\n",
      "Epoch 37/50\n",
      "247/247 [==============================] - ETA: 0s - loss: 0.5211 - accuracy: 0.7810\n",
      "Epoch 37: val_accuracy improved from 0.79382 to 0.79737, saving model to best_model_20250407-094809.h5\n",
      "247/247 [==============================] - 8s 31ms/step - loss: 0.5211 - accuracy: 0.7810 - val_loss: 0.4450 - val_accuracy: 0.7974 - lr: 2.5000e-04\n",
      "Epoch 38/50\n",
      "247/247 [==============================] - ETA: 0s - loss: 0.5233 - accuracy: 0.7809\n",
      "Epoch 38: val_accuracy improved from 0.79737 to 0.79787, saving model to best_model_20250407-094809.h5\n",
      "247/247 [==============================] - 8s 32ms/step - loss: 0.5233 - accuracy: 0.7809 - val_loss: 0.4583 - val_accuracy: 0.7979 - lr: 2.5000e-04\n",
      "Epoch 39/50\n",
      "247/247 [==============================] - ETA: 0s - loss: 0.5166 - accuracy: 0.7814\n",
      "Epoch 39: val_accuracy improved from 0.79787 to 0.81560, saving model to best_model_20250407-094809.h5\n",
      "247/247 [==============================] - 8s 32ms/step - loss: 0.5166 - accuracy: 0.7814 - val_loss: 0.4245 - val_accuracy: 0.8156 - lr: 2.5000e-04\n",
      "Epoch 40/50\n",
      "247/247 [==============================] - ETA: 0s - loss: 0.5059 - accuracy: 0.7874\n",
      "Epoch 40: val_accuracy did not improve from 0.81560\n",
      "247/247 [==============================] - 8s 31ms/step - loss: 0.5059 - accuracy: 0.7874 - val_loss: 0.4836 - val_accuracy: 0.7898 - lr: 2.5000e-04\n",
      "Epoch 41/50\n",
      "247/247 [==============================] - ETA: 0s - loss: 0.4993 - accuracy: 0.7880\n",
      "Epoch 41: val_accuracy did not improve from 0.81560\n",
      "247/247 [==============================] - 8s 31ms/step - loss: 0.4993 - accuracy: 0.7880 - val_loss: 0.5376 - val_accuracy: 0.7847 - lr: 2.5000e-04\n",
      "Epoch 42/50\n",
      "247/247 [==============================] - ETA: 0s - loss: 0.4954 - accuracy: 0.7903\n",
      "Epoch 42: val_accuracy did not improve from 0.81560\n",
      "\n",
      "Epoch 42: ReduceLROnPlateau reducing learning rate to 0.0001250000059371814.\n",
      "247/247 [==============================] - 8s 34ms/step - loss: 0.4954 - accuracy: 0.7903 - val_loss: 0.4252 - val_accuracy: 0.8105 - lr: 2.5000e-04\n",
      "Epoch 43/50\n",
      "247/247 [==============================] - ETA: 0s - loss: 0.4721 - accuracy: 0.8002\n",
      "Epoch 43: val_accuracy improved from 0.81560 to 0.81712, saving model to best_model_20250407-094809.h5\n",
      "247/247 [==============================] - 10s 40ms/step - loss: 0.4721 - accuracy: 0.8002 - val_loss: 0.4021 - val_accuracy: 0.8171 - lr: 1.2500e-04\n",
      "Epoch 44/50\n",
      "246/247 [============================>.] - ETA: 0s - loss: 0.4634 - accuracy: 0.8075\n",
      "Epoch 44: val_accuracy did not improve from 0.81712\n",
      "247/247 [==============================] - 10s 40ms/step - loss: 0.4633 - accuracy: 0.8076 - val_loss: 0.4681 - val_accuracy: 0.7928 - lr: 1.2500e-04\n",
      "Epoch 45/50\n",
      "247/247 [==============================] - ETA: 0s - loss: 0.4544 - accuracy: 0.8141\n",
      "Epoch 45: val_accuracy did not improve from 0.81712\n",
      "247/247 [==============================] - 10s 39ms/step - loss: 0.4544 - accuracy: 0.8141 - val_loss: 0.6232 - val_accuracy: 0.7340 - lr: 1.2500e-04\n",
      "Epoch 46/50\n",
      "246/247 [============================>.] - ETA: 0s - loss: 0.4465 - accuracy: 0.8158\n",
      "Epoch 46: val_accuracy improved from 0.81712 to 0.83232, saving model to best_model_20250407-094809.h5\n",
      "247/247 [==============================] - 10s 40ms/step - loss: 0.4472 - accuracy: 0.8159 - val_loss: 0.3911 - val_accuracy: 0.8323 - lr: 1.2500e-04\n",
      "Epoch 47/50\n",
      "246/247 [============================>.] - ETA: 0s - loss: 0.4330 - accuracy: 0.8206\n",
      "Epoch 47: val_accuracy improved from 0.83232 to 0.85816, saving model to best_model_20250407-094809.h5\n",
      "247/247 [==============================] - 10s 39ms/step - loss: 0.4332 - accuracy: 0.8205 - val_loss: 0.3508 - val_accuracy: 0.8582 - lr: 1.2500e-04\n",
      "Epoch 48/50\n",
      "247/247 [==============================] - ETA: 0s - loss: 0.4245 - accuracy: 0.8275\n",
      "Epoch 48: val_accuracy did not improve from 0.85816\n",
      "247/247 [==============================] - 8s 31ms/step - loss: 0.4245 - accuracy: 0.8275 - val_loss: 0.3911 - val_accuracy: 0.8328 - lr: 1.2500e-04\n",
      "Epoch 49/50\n",
      "247/247 [==============================] - ETA: 0s - loss: 0.3998 - accuracy: 0.8375\n",
      "Epoch 49: val_accuracy did not improve from 0.85816\n",
      "247/247 [==============================] - 8s 31ms/step - loss: 0.3998 - accuracy: 0.8375 - val_loss: 0.3666 - val_accuracy: 0.8419 - lr: 1.2500e-04\n",
      "Epoch 50/50\n",
      "247/247 [==============================] - ETA: 0s - loss: 0.3898 - accuracy: 0.8418\n",
      "Epoch 50: val_accuracy did not improve from 0.85816\n",
      "\n",
      "Epoch 50: ReduceLROnPlateau reducing learning rate to 6.25000029685907e-05.\n",
      "247/247 [==============================] - 8s 31ms/step - loss: 0.3898 - accuracy: 0.8418 - val_loss: 0.4750 - val_accuracy: 0.7867 - lr: 1.2500e-04\n"
     ]
    }
   ],
   "source": [
    "# Train Model\n",
    "history = model.fit(\n",
    "    X_train, y_train_cat,\n",
    "    epochs=50,\n",
    "    batch_size=32,\n",
    "    validation_data=(X_test, y_test_cat),\n",
    "    callbacks=[early_stop, checkpoint, reduce_lr],\n",
    "    verbose=1\n",
    ")"
   ]
  },
  {
   "cell_type": "markdown",
   "metadata": {},
   "source": [
    "## Evaluate Model"
   ]
  },
  {
   "cell_type": "code",
   "execution_count": 25,
   "metadata": {},
   "outputs": [
    {
     "name": "stdout",
     "output_type": "stream",
     "text": [
      "Test Accuracy: 0.7867\n"
     ]
    }
   ],
   "source": [
    "# Evaluate Model\n",
    "loss, accuracy = model.evaluate(X_test, y_test_cat, verbose=0)\n",
    "print(f\"Test Accuracy: {accuracy:.4f}\")"
   ]
  },
  {
   "cell_type": "markdown",
   "metadata": {},
   "source": [
    "## Classification Report"
   ]
  },
  {
   "cell_type": "code",
   "execution_count": 26,
   "metadata": {},
   "outputs": [
    {
     "name": "stdout",
     "output_type": "stream",
     "text": [
      "62/62 [==============================] - 2s 9ms/step\n",
      "\n",
      "Classification Report:\n",
      "              precision    recall  f1-score   support\n",
      "\n",
      "           A       0.69      0.44      0.54       197\n",
      "         MYL       0.91      0.85      0.88       197\n",
      "        NFLX       1.00      1.00      1.00       197\n",
      "         NFX       0.43      1.00      0.60       198\n",
      "          NI       0.80      0.73      0.76       198\n",
      "         NKE       1.00      0.98      0.99       197\n",
      "        NLSN       0.73      0.42      0.54       198\n",
      "         NOC       1.00      1.00      1.00       197\n",
      "         NOV       0.76      0.64      0.70       197\n",
      "         NRG       0.99      0.80      0.89       198\n",
      "\n",
      "    accuracy                           0.79      1974\n",
      "   macro avg       0.83      0.79      0.79      1974\n",
      "weighted avg       0.83      0.79      0.79      1974\n",
      "\n"
     ]
    }
   ],
   "source": [
    "# Classification Report\n",
    "y_pred = model.predict(X_test)\n",
    "y_pred_classes = np.argmax(y_pred, axis=1)\n",
    "y_true_classes = np.argmax(y_test_cat, axis=1)\n",
    "\n",
    "print(\"\\nClassification Report:\")\n",
    "print(classification_report(y_true_classes, y_pred_classes, target_names=label_encoder.classes_))"
   ]
  },
  {
   "cell_type": "code",
   "execution_count": 27,
   "metadata": {},
   "outputs": [
    {
     "data": {
      "image/png": "[encoded data removed]",
      "text/plain": [
       "<Figure size 1000x800 with 2 Axes>"
      ]
     },
     "metadata": {},
     "output_type": "display_data"
    }
   ],
   "source": [
    "# Confusion Matrix\n",
    "conf_matrix = confusion_matrix(y_true_classes, y_pred_classes)\n",
    "plt.figure(figsize=(10, 8))\n",
    "sns.heatmap(conf_matrix, annot=True, fmt=\"d\", cmap=\"Blues\", \n",
    "            xticklabels=label_encoder.classes_, \n",
    "            yticklabels=label_encoder.classes_)\n",
    "plt.xlabel(\"Predicted Label\")\n",
    "plt.ylabel(\"True Label\")\n",
    "plt.title(\"Confusion Matrix\")\n",
    "plt.show()"
   ]
  },
  {
   "cell_type": "markdown",
   "metadata": {},
   "source": [
    "## Plot Training History"
   ]
  },
  {
   "cell_type": "code",
   "execution_count": 28,
   "metadata": {},
   "outputs": [
    {
     "data": {
      "image/png": "[encoded data removed]",
      "text/plain": [
       "<Figure size 1200x500 with 2 Axes>"
      ]
     },
     "metadata": {},
     "output_type": "display_data"
    }
   ],
   "source": [
    "# Plot Training History\n",
    "plt.figure(figsize=(12, 5))\n",
    "\n",
    "# Loss\n",
    "plt.subplot(1, 2, 1)\n",
    "plt.plot(history.history['loss'], label='Train Loss')\n",
    "plt.plot(history.history['val_loss'], label='Validation Loss')\n",
    "plt.title('Training & Validation Loss')\n",
    "plt.xlabel('Epoch')\n",
    "plt.ylabel('Loss')\n",
    "plt.legend()\n",
    "\n",
    "# Accuracy\n",
    "plt.subplot(1, 2, 2)\n",
    "plt.plot(history.history['accuracy'], label='Train Accuracy')\n",
    "plt.plot(history.history['val_accuracy'], label='Validation Accuracy')\n",
    "plt.title('Training & Validation Accuracy')\n",
    "plt.xlabel('Epoch')\n",
    "plt.ylabel('Accuracy')\n",
    "plt.legend()\n",
    "\n",
    "plt.tight_layout()\n",
    "plt.show()"
   ]
  }
 ],
 "metadata": {
  "kernelspec": {
   "display_name": "Python 3",
   "language": "python",
   "name": "python3"
  },
  "language_info": {
   "codemirror_mode": {
    "name": "ipython",
    "version": 3
   },
   "file_extension": ".py",
   "mimetype": "text/x-python",
   "name": "python",
   "nbconvert_exporter": "python",
   "pygments_lexer": "ipython3",
   "version": "3.11.5"
  }
 },
 "nbformat": 4,
 "nbformat_minor": 2
}
