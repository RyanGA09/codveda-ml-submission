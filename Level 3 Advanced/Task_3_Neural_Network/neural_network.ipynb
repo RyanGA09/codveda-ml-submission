{
 "cells": [
  {
   "cell_type": "markdown",
   "metadata": {},
   "source": [
    "# Task 3: Build a Neural Network"
   ]
  },
  {
   "cell_type": "markdown",
   "metadata": {},
   "source": [
    "## Library"
   ]
  },
  {
   "cell_type": "code",
   "execution_count": 2,
   "metadata": {},
   "outputs": [],
   "source": [
    "import os\n",
    "import pandas as pd\n",
    "import numpy as np\n",
    "import matplotlib.pyplot as plt\n",
    "from tensorflow.keras.models import Sequential\n",
    "from tensorflow.keras.layers import LSTM, Dense, Dropout, Bidirectional\n",
    "from tensorflow.keras.callbacks import EarlyStopping, ModelCheckpoint, ReduceLROnPlateau\n",
    "from sklearn.preprocessing import MinMaxScaler, LabelEncoder\n",
    "from sklearn.model_selection import train_test_split\n",
    "from sklearn.metrics import classification_report, confusion_matrix\n",
    "import seaborn as sns\n",
    "from datetime import datetime\n",
    "from imblearn.over_sampling import RandomOverSampler"
   ]
  },
  {
   "cell_type": "markdown",
   "metadata": {},
   "source": [
    "## Load Data"
   ]
  },
  {
   "cell_type": "code",
   "execution_count": 3,
   "metadata": {},
   "outputs": [],
   "source": [
    "DATA_DIR = \"data\"\n",
    "os.makedirs(DATA_DIR, exist_ok=True)\n",
    "\n",
    "data_path = os.path.join(DATA_DIR, \"Stock Prices Data Set.csv\")\n",
    "data = pd.read_csv(data_path)"
   ]
  },
  {
   "cell_type": "code",
   "execution_count": 4,
   "metadata": {},
   "outputs": [
    {
     "name": "stdout",
     "output_type": "stream",
     "text": [
      "Stock Prices Data Shape: (497472, 7)\n"
     ]
    }
   ],
   "source": [
    "print(\"Stock Prices Data Shape:\", data.shape)"
   ]
  },
  {
   "cell_type": "code",
   "execution_count": 5,
   "metadata": {},
   "outputs": [
    {
     "name": "stdout",
     "output_type": "stream",
     "text": [
      "Stock Prices Data Preview:\n"
     ]
    },
    {
     "data": {
      "application/vnd.microsoft.datawrangler.viewer.v0+json": {
       "columns": [
        {
         "name": "index",
         "rawType": "int64",
         "type": "integer"
        },
        {
         "name": "symbol",
         "rawType": "object",
         "type": "string"
        },
        {
         "name": "date",
         "rawType": "object",
         "type": "string"
        },
        {
         "name": "open",
         "rawType": "float64",
         "type": "float"
        },
        {
         "name": "high",
         "rawType": "float64",
         "type": "float"
        },
        {
         "name": "low",
         "rawType": "float64",
         "type": "float"
        },
        {
         "name": "close",
         "rawType": "float64",
         "type": "float"
        },
        {
         "name": "volume",
         "rawType": "int64",
         "type": "integer"
        }
       ],
       "conversionMethod": "pd.DataFrame",
       "ref": "05b9fd1f-9e88-41c5-aab0-f4e0f53ddfd6",
       "rows": [
        [
         "0",
         "AAL",
         "2014-01-02",
         "25.07",
         "25.82",
         "25.06",
         "25.36",
         "8998943"
        ],
        [
         "1",
         "AAPL",
         "2014-01-02",
         "79.3828",
         "79.5756",
         "78.8601",
         "79.0185",
         "58791957"
        ],
        [
         "2",
         "AAP",
         "2014-01-02",
         "110.36",
         "111.88",
         "109.29",
         "109.74",
         "542711"
        ],
        [
         "3",
         "ABBV",
         "2014-01-02",
         "52.12",
         "52.33",
         "51.52",
         "51.98",
         "4569061"
        ],
        [
         "4",
         "ABC",
         "2014-01-02",
         "70.11",
         "70.23",
         "69.48",
         "69.89",
         "1148391"
        ]
       ],
       "shape": {
        "columns": 7,
        "rows": 5
       }
      },
      "text/html": [
       "<div>\n",
       "<style scoped>\n",
       "    .dataframe tbody tr th:only-of-type {\n",
       "        vertical-align: middle;\n",
       "    }\n",
       "\n",
       "    .dataframe tbody tr th {\n",
       "        vertical-align: top;\n",
       "    }\n",
       "\n",
       "    .dataframe thead th {\n",
       "        text-align: right;\n",
       "    }\n",
       "</style>\n",
       "<table border=\"1\" class=\"dataframe\">\n",
       "  <thead>\n",
       "    <tr style=\"text-align: right;\">\n",
       "      <th></th>\n",
       "      <th>symbol</th>\n",
       "      <th>date</th>\n",
       "      <th>open</th>\n",
       "      <th>high</th>\n",
       "      <th>low</th>\n",
       "      <th>close</th>\n",
       "      <th>volume</th>\n",
       "    </tr>\n",
       "  </thead>\n",
       "  <tbody>\n",
       "    <tr>\n",
       "      <th>0</th>\n",
       "      <td>AAL</td>\n",
       "      <td>2014-01-02</td>\n",
       "      <td>25.0700</td>\n",
       "      <td>25.8200</td>\n",
       "      <td>25.0600</td>\n",
       "      <td>25.3600</td>\n",
       "      <td>8998943</td>\n",
       "    </tr>\n",
       "    <tr>\n",
       "      <th>1</th>\n",
       "      <td>AAPL</td>\n",
       "      <td>2014-01-02</td>\n",
       "      <td>79.3828</td>\n",
       "      <td>79.5756</td>\n",
       "      <td>78.8601</td>\n",
       "      <td>79.0185</td>\n",
       "      <td>58791957</td>\n",
       "    </tr>\n",
       "    <tr>\n",
       "      <th>2</th>\n",
       "      <td>AAP</td>\n",
       "      <td>2014-01-02</td>\n",
       "      <td>110.3600</td>\n",
       "      <td>111.8800</td>\n",
       "      <td>109.2900</td>\n",
       "      <td>109.7400</td>\n",
       "      <td>542711</td>\n",
       "    </tr>\n",
       "    <tr>\n",
       "      <th>3</th>\n",
       "      <td>ABBV</td>\n",
       "      <td>2014-01-02</td>\n",
       "      <td>52.1200</td>\n",
       "      <td>52.3300</td>\n",
       "      <td>51.5200</td>\n",
       "      <td>51.9800</td>\n",
       "      <td>4569061</td>\n",
       "    </tr>\n",
       "    <tr>\n",
       "      <th>4</th>\n",
       "      <td>ABC</td>\n",
       "      <td>2014-01-02</td>\n",
       "      <td>70.1100</td>\n",
       "      <td>70.2300</td>\n",
       "      <td>69.4800</td>\n",
       "      <td>69.8900</td>\n",
       "      <td>1148391</td>\n",
       "    </tr>\n",
       "  </tbody>\n",
       "</table>\n",
       "</div>"
      ],
      "text/plain": [
       "  symbol        date      open      high       low     close    volume\n",
       "0    AAL  2014-01-02   25.0700   25.8200   25.0600   25.3600   8998943\n",
       "1   AAPL  2014-01-02   79.3828   79.5756   78.8601   79.0185  58791957\n",
       "2    AAP  2014-01-02  110.3600  111.8800  109.2900  109.7400    542711\n",
       "3   ABBV  2014-01-02   52.1200   52.3300   51.5200   51.9800   4569061\n",
       "4    ABC  2014-01-02   70.1100   70.2300   69.4800   69.8900   1148391"
      ]
     },
     "metadata": {},
     "output_type": "display_data"
    }
   ],
   "source": [
    "print(\"Stock Prices Data Preview:\")\n",
    "display(data.head())"
   ]
  },
  {
   "cell_type": "markdown",
   "metadata": {},
   "source": [
    "## Preprocessing"
   ]
  },
  {
   "cell_type": "code",
   "execution_count": 6,
   "metadata": {},
   "outputs": [],
   "source": [
    "# Convert and sort by date\n",
    "data[\"date\"] = pd.to_datetime(data[\"date\"])\n",
    "data.sort_values(by=[\"symbol\", \"date\"], inplace=True)"
   ]
  },
  {
   "cell_type": "code",
   "execution_count": 7,
   "metadata": {},
   "outputs": [],
   "source": [
    "# Remove duplicates if any\n",
    "data.drop_duplicates(subset=[\"symbol\", \"date\"], inplace=True)"
   ]
  },
  {
   "cell_type": "code",
   "execution_count": 8,
   "metadata": {},
   "outputs": [],
   "source": [
    "# Take the Top-N most frequently occurring symbol\n",
    "top_symbols = data['symbol'].value_counts().nlargest(10).index\n",
    "data = data[data['symbol'].isin(top_symbols)]"
   ]
  },
  {
   "cell_type": "code",
   "execution_count": 9,
   "metadata": {},
   "outputs": [],
   "source": [
    "# Encode target label\n",
    "label_encoder = LabelEncoder()\n",
    "data[\"symbol_encoded\"] = label_encoder.fit_transform(data[\"symbol\"])"
   ]
  },
  {
   "cell_type": "code",
   "execution_count": 10,
   "metadata": {},
   "outputs": [],
   "source": [
    "# Define features and target\n",
    "features = [\"open\", \"high\", \"low\", \"close\", \"volume\"]\n",
    "target = \"symbol_encoded\""
   ]
  },
  {
   "cell_type": "code",
   "execution_count": 11,
   "metadata": {},
   "outputs": [],
   "source": [
    "# Remove rows with missing or zero volume (if any)\n",
    "data = data.dropna(subset=features)\n",
    "data = data[data[\"volume\"] > 0]"
   ]
  },
  {
   "cell_type": "code",
   "execution_count": 12,
   "metadata": {},
   "outputs": [],
   "source": [
    "# Normalize features\n",
    "scaler = MinMaxScaler()\n",
    "data[features] = scaler.fit_transform(data[features])"
   ]
  },
  {
   "cell_type": "code",
   "execution_count": 13,
   "metadata": {},
   "outputs": [],
   "source": [
    "# Drop rows with NaN or inf after normalization\n",
    "data = data.replace([np.inf, -np.inf], np.nan)\n",
    "data = data.dropna()"
   ]
  },
  {
   "cell_type": "code",
   "execution_count": 14,
   "metadata": {},
   "outputs": [],
   "source": [
    "# Create sequences per stock symbol\n",
    "def create_symbol_sequences(df, time_steps=10):\n",
    "    X, y = [], []\n",
    "    symbols = df[\"symbol\"].unique()\n",
    "    for symbol in symbols:\n",
    "        temp = df[df[\"symbol\"] == symbol]\n",
    "        values = temp[features].values.astype(np.float32)\n",
    "        labels = temp[target].values\n",
    "        if len(values) <= time_steps:\n",
    "            continue\n",
    "        for i in range(len(values) - time_steps):\n",
    "            X.append(values[i:i+time_steps])\n",
    "            y.append(labels[i+time_steps])\n",
    "    return np.array(X), np.array(y)\n",
    "\n",
    "TIME_STEPS = 10\n",
    "X_seq, y_seq = create_symbol_sequences(data, time_steps=TIME_STEPS)"
   ]
  },
  {
   "cell_type": "code",
   "execution_count": 15,
   "metadata": {},
   "outputs": [
    {
     "name": "stdout",
     "output_type": "stream",
     "text": [
      "Total sequences created: 9970\n"
     ]
    }
   ],
   "source": [
    "print(f\"Total sequences created: {X_seq.shape[0]}\")"
   ]
  },
  {
   "cell_type": "code",
   "execution_count": 16,
   "metadata": {},
   "outputs": [
    {
     "name": "stdout",
     "output_type": "stream",
     "text": [
      "Input shape: (9970, 10, 5), Output shape: (9970,)\n"
     ]
    }
   ],
   "source": [
    "print(f\"Input shape: {X_seq.shape}, Output shape: {y_seq.shape}\")"
   ]
  },
  {
   "cell_type": "markdown",
   "metadata": {},
   "source": [
    "## Balancing Data"
   ]
  },
  {
   "cell_type": "code",
   "execution_count": 17,
   "metadata": {},
   "outputs": [],
   "source": [
    "# Balancing Data\n",
    "X_seq_reshape = X_seq.reshape(X_seq.shape[0], -1)\n",
    "ros = RandomOverSampler(random_state=42)\n",
    "X_resampled, y_resampled = ros.fit_resample(X_seq_reshape, y_seq)\n",
    "X_seq = X_resampled.reshape(-1, TIME_STEPS, len(features))\n",
    "y_seq = y_resampled"
   ]
  },
  {
   "cell_type": "markdown",
   "metadata": {},
   "source": [
    "## Check label distribution"
   ]
  },
  {
   "cell_type": "code",
   "execution_count": 18,
   "metadata": {},
   "outputs": [
    {
     "data": {
      "image/png": "[encoded data removed]",
      "text/plain": [
       "<Figure size 640x480 with 1 Axes>"
      ]
     },
     "metadata": {},
     "output_type": "display_data"
    }
   ],
   "source": [
    "# Check label distribution\n",
    "pd.Series(y_seq).value_counts(normalize=True).plot(kind='bar')\n",
    "plt.title(\"Label Distribution\")\n",
    "plt.show()"
   ]
  },
  {
   "cell_type": "markdown",
   "metadata": {},
   "source": [
    "## Split dataset"
   ]
  },
  {
   "cell_type": "code",
   "execution_count": 19,
   "metadata": {},
   "outputs": [],
   "source": [
    "# Split dataset\n",
    "X_train, X_test, y_train, y_test = train_test_split(\n",
    "    X_seq, y_seq, test_size=0.2, random_state=42, stratify=y_seq\n",
    ")"
   ]
  },
  {
   "cell_type": "markdown",
   "metadata": {},
   "source": [
    "## Build Neural Network Model"
   ]
  },
  {
   "cell_type": "code",
   "execution_count": 20,
   "metadata": {},
   "outputs": [],
   "source": [
    "# Build Neural Network Model\n",
    "model = Sequential([\n",
    "    Bidirectional(LSTM(64, return_sequences=True), input_shape=(X_train.shape[1], X_train.shape[2])),\n",
    "    Dropout(0.3),\n",
    "    Bidirectional(LSTM(32)),\n",
    "    Dropout(0.3),\n",
    "    Dense(32, activation='relu'),\n",
    "    Dense(len(np.unique(y_seq)), activation='softmax')\n",
    "])\n",
    "\n",
    "model.compile(optimizer='adam', loss='sparse_categorical_crossentropy', metrics=['accuracy'])"
   ]
  },
  {
   "cell_type": "code",
   "execution_count": 21,
   "metadata": {},
   "outputs": [],
   "source": [
    "# Callbacks (use .h5 to avoid errors)\n",
    "now = datetime.now().strftime(\"%Y%m%d-%H%M%S\")\n",
    "model_path = f\"best_model_{now}.h5\"\n",
    "early_stop = EarlyStopping(monitor='val_loss', patience=5, restore_best_weights=True)\n",
    "checkpoint = ModelCheckpoint(\n",
    "    filepath=model_path,\n",
    "    monitor='val_accuracy',\n",
    "    save_best_only=True,\n",
    "    save_weights_only=False,\n",
    "    mode='max',\n",
    "    verbose=1\n",
    ")\n",
    "reduce_lr = ReduceLROnPlateau(monitor='val_loss', patience=3, factor=0.5, verbose=1)"
   ]
  },
  {
   "cell_type": "markdown",
   "metadata": {},
   "source": [
    "## Train Model"
   ]
  },
  {
   "cell_type": "code",
   "execution_count": 22,
   "metadata": {},
   "outputs": [
    {
     "name": "stdout",
     "output_type": "stream",
     "text": [
      "Epoch 1/50\n",
      "248/250 [============================>.] - ETA: 0s - loss: 1.5638 - accuracy: 0.3771\n",
      "Epoch 1: val_accuracy improved from -inf to 0.54112, saving model to best_model_20250407-092603.h5\n",
      "250/250 [==============================] - 9s 14ms/step - loss: 1.5624 - accuracy: 0.3774 - val_loss: 1.1459 - val_accuracy: 0.5411 - lr: 0.0010\n",
      "Epoch 2/50\n",
      " 14/250 [>.............................] - ETA: 1s - loss: 1.0896 - accuracy: 0.5625"
     ]
    },
    {
     "name": "stderr",
     "output_type": "stream",
     "text": [
      "c:\\Users\\Ryan\\AppData\\Local\\Programs\\Python\\Python311\\Lib\\site-packages\\keras\\src\\engine\\training.py:3079: UserWarning: You are saving your model as an HDF5 file via `model.save()`. This file format is considered legacy. We recommend using instead the native Keras format, e.g. `model.save('my_model.keras')`.\n",
      "  saving_api.save_model(\n"
     ]
    },
    {
     "name": "stdout",
     "output_type": "stream",
     "text": [
      "250/250 [==============================] - ETA: 0s - loss: 1.0353 - accuracy: 0.5843\n",
      "Epoch 2: val_accuracy improved from 0.54112 to 0.63139, saving model to best_model_20250407-092603.h5\n",
      "250/250 [==============================] - 2s 9ms/step - loss: 1.0353 - accuracy: 0.5843 - val_loss: 0.8841 - val_accuracy: 0.6314 - lr: 0.0010\n",
      "Epoch 3/50\n",
      "248/250 [============================>.] - ETA: 0s - loss: 0.9204 - accuracy: 0.6218\n",
      "Epoch 3: val_accuracy improved from 0.63139 to 0.65145, saving model to best_model_20250407-092603.h5\n",
      "250/250 [==============================] - 2s 9ms/step - loss: 0.9198 - accuracy: 0.6219 - val_loss: 0.8379 - val_accuracy: 0.6515 - lr: 0.0010\n",
      "Epoch 4/50\n",
      "246/250 [============================>.] - ETA: 0s - loss: 0.8720 - accuracy: 0.6428\n",
      "Epoch 4: val_accuracy did not improve from 0.65145\n",
      "250/250 [==============================] - 2s 9ms/step - loss: 0.8735 - accuracy: 0.6423 - val_loss: 0.8435 - val_accuracy: 0.6489 - lr: 0.0010\n",
      "Epoch 5/50\n",
      "247/250 [============================>.] - ETA: 0s - loss: 0.8772 - accuracy: 0.6368\n",
      "Epoch 5: val_accuracy improved from 0.65145 to 0.65647, saving model to best_model_20250407-092603.h5\n",
      "250/250 [==============================] - 2s 9ms/step - loss: 0.8762 - accuracy: 0.6367 - val_loss: 0.7960 - val_accuracy: 0.6565 - lr: 0.0010\n",
      "Epoch 6/50\n",
      "248/250 [============================>.] - ETA: 0s - loss: 0.8474 - accuracy: 0.6399\n",
      "Epoch 6: val_accuracy did not improve from 0.65647\n",
      "250/250 [==============================] - 2s 9ms/step - loss: 0.8466 - accuracy: 0.6402 - val_loss: 0.8140 - val_accuracy: 0.6510 - lr: 0.0010\n",
      "Epoch 7/50\n",
      "249/250 [============================>.] - ETA: 0s - loss: 0.8333 - accuracy: 0.6502\n",
      "Epoch 7: val_accuracy did not improve from 0.65647\n",
      "250/250 [==============================] - 2s 9ms/step - loss: 0.8332 - accuracy: 0.6503 - val_loss: 0.8076 - val_accuracy: 0.6565 - lr: 0.0010\n",
      "Epoch 8/50\n",
      "245/250 [============================>.] - ETA: 0s - loss: 0.8335 - accuracy: 0.6494\n",
      "Epoch 8: val_accuracy improved from 0.65647 to 0.66800, saving model to best_model_20250407-092603.h5\n",
      "250/250 [==============================] - 2s 9ms/step - loss: 0.8320 - accuracy: 0.6502 - val_loss: 0.7725 - val_accuracy: 0.6680 - lr: 0.0010\n",
      "Epoch 9/50\n",
      "247/250 [============================>.] - ETA: 0s - loss: 0.8194 - accuracy: 0.6499\n",
      "Epoch 9: val_accuracy did not improve from 0.66800\n",
      "250/250 [==============================] - 2s 9ms/step - loss: 0.8182 - accuracy: 0.6503 - val_loss: 0.8091 - val_accuracy: 0.6464 - lr: 0.0010\n",
      "Epoch 10/50\n",
      "245/250 [============================>.] - ETA: 0s - loss: 0.8117 - accuracy: 0.6528\n",
      "Epoch 10: val_accuracy improved from 0.66800 to 0.67101, saving model to best_model_20250407-092603.h5\n",
      "250/250 [==============================] - 2s 9ms/step - loss: 0.8110 - accuracy: 0.6527 - val_loss: 0.7853 - val_accuracy: 0.6710 - lr: 0.0010\n",
      "Epoch 11/50\n",
      "246/250 [============================>.] - ETA: 0s - loss: 0.7988 - accuracy: 0.6596\n",
      "Epoch 11: val_accuracy did not improve from 0.67101\n",
      "\n",
      "Epoch 11: ReduceLROnPlateau reducing learning rate to 0.0005000000237487257.\n",
      "250/250 [==============================] - 2s 9ms/step - loss: 0.7984 - accuracy: 0.6594 - val_loss: 0.7822 - val_accuracy: 0.6595 - lr: 0.0010\n",
      "Epoch 12/50\n",
      "247/250 [============================>.] - ETA: 0s - loss: 0.7669 - accuracy: 0.6718\n",
      "Epoch 12: val_accuracy did not improve from 0.67101\n",
      "250/250 [==============================] - 2s 9ms/step - loss: 0.7674 - accuracy: 0.6715 - val_loss: 0.7588 - val_accuracy: 0.6705 - lr: 5.0000e-04\n",
      "Epoch 13/50\n",
      "245/250 [============================>.] - ETA: 0s - loss: 0.7653 - accuracy: 0.6727\n",
      "Epoch 13: val_accuracy improved from 0.67101 to 0.68004, saving model to best_model_20250407-092603.h5\n",
      "250/250 [==============================] - 2s 9ms/step - loss: 0.7669 - accuracy: 0.6721 - val_loss: 0.7495 - val_accuracy: 0.6800 - lr: 5.0000e-04\n",
      "Epoch 14/50\n",
      "247/250 [============================>.] - ETA: 0s - loss: 0.7666 - accuracy: 0.6697\n",
      "Epoch 14: val_accuracy did not improve from 0.68004\n",
      "250/250 [==============================] - 2s 9ms/step - loss: 0.7677 - accuracy: 0.6691 - val_loss: 0.7434 - val_accuracy: 0.6790 - lr: 5.0000e-04\n",
      "Epoch 15/50\n",
      "244/250 [============================>.] - ETA: 0s - loss: 0.7643 - accuracy: 0.6693\n",
      "Epoch 15: val_accuracy did not improve from 0.68004\n",
      "250/250 [==============================] - 2s 9ms/step - loss: 0.7662 - accuracy: 0.6685 - val_loss: 0.7475 - val_accuracy: 0.6730 - lr: 5.0000e-04\n",
      "Epoch 16/50\n",
      "249/250 [============================>.] - ETA: 0s - loss: 0.7621 - accuracy: 0.6718\n",
      "Epoch 16: val_accuracy did not improve from 0.68004\n",
      "250/250 [==============================] - 2s 9ms/step - loss: 0.7618 - accuracy: 0.6720 - val_loss: 0.7481 - val_accuracy: 0.6710 - lr: 5.0000e-04\n",
      "Epoch 17/50\n",
      "248/250 [============================>.] - ETA: 0s - loss: 0.7599 - accuracy: 0.6701\n",
      "Epoch 17: val_accuracy did not improve from 0.68004\n",
      "250/250 [==============================] - 2s 9ms/step - loss: 0.7602 - accuracy: 0.6696 - val_loss: 0.7408 - val_accuracy: 0.6790 - lr: 5.0000e-04\n",
      "Epoch 18/50\n",
      "245/250 [============================>.] - ETA: 0s - loss: 0.7543 - accuracy: 0.6778\n",
      "Epoch 18: val_accuracy did not improve from 0.68004\n",
      "250/250 [==============================] - 2s 9ms/step - loss: 0.7552 - accuracy: 0.6768 - val_loss: 0.7522 - val_accuracy: 0.6785 - lr: 5.0000e-04\n",
      "Epoch 19/50\n",
      "244/250 [============================>.] - ETA: 0s - loss: 0.7531 - accuracy: 0.6784\n",
      "Epoch 19: val_accuracy did not improve from 0.68004\n",
      "250/250 [==============================] - 2s 10ms/step - loss: 0.7521 - accuracy: 0.6788 - val_loss: 0.7348 - val_accuracy: 0.6755 - lr: 5.0000e-04\n",
      "Epoch 20/50\n",
      "249/250 [============================>.] - ETA: 0s - loss: 0.7499 - accuracy: 0.6729\n",
      "Epoch 20: val_accuracy did not improve from 0.68004\n",
      "250/250 [==============================] - 2s 10ms/step - loss: 0.7498 - accuracy: 0.6731 - val_loss: 0.7573 - val_accuracy: 0.6670 - lr: 5.0000e-04\n",
      "Epoch 21/50\n",
      "249/250 [============================>.] - ETA: 0s - loss: 0.7455 - accuracy: 0.6770\n",
      "Epoch 21: val_accuracy improved from 0.68004 to 0.68907, saving model to best_model_20250407-092603.h5\n",
      "250/250 [==============================] - 2s 9ms/step - loss: 0.7458 - accuracy: 0.6768 - val_loss: 0.7373 - val_accuracy: 0.6891 - lr: 5.0000e-04\n",
      "Epoch 22/50\n",
      "250/250 [==============================] - ETA: 0s - loss: 0.7432 - accuracy: 0.6778\n",
      "Epoch 22: val_accuracy did not improve from 0.68907\n",
      "\n",
      "Epoch 22: ReduceLROnPlateau reducing learning rate to 0.0002500000118743628.\n",
      "250/250 [==============================] - 2s 9ms/step - loss: 0.7432 - accuracy: 0.6778 - val_loss: 0.7498 - val_accuracy: 0.6760 - lr: 5.0000e-04\n",
      "Epoch 23/50\n",
      "250/250 [==============================] - ETA: 0s - loss: 0.7328 - accuracy: 0.6794\n",
      "Epoch 23: val_accuracy did not improve from 0.68907\n",
      "250/250 [==============================] - 2s 10ms/step - loss: 0.7328 - accuracy: 0.6794 - val_loss: 0.7377 - val_accuracy: 0.6800 - lr: 2.5000e-04\n",
      "Epoch 24/50\n",
      "246/250 [============================>.] - ETA: 0s - loss: 0.7283 - accuracy: 0.6870\n",
      "Epoch 24: val_accuracy did not improve from 0.68907\n",
      "250/250 [==============================] - 2s 9ms/step - loss: 0.7293 - accuracy: 0.6863 - val_loss: 0.7188 - val_accuracy: 0.6851 - lr: 2.5000e-04\n",
      "Epoch 25/50\n",
      "245/250 [============================>.] - ETA: 0s - loss: 0.7276 - accuracy: 0.6839\n",
      "Epoch 25: val_accuracy did not improve from 0.68907\n",
      "250/250 [==============================] - 2s 9ms/step - loss: 0.7297 - accuracy: 0.6832 - val_loss: 0.7282 - val_accuracy: 0.6836 - lr: 2.5000e-04\n",
      "Epoch 26/50\n",
      "248/250 [============================>.] - ETA: 0s - loss: 0.7213 - accuracy: 0.6832\n",
      "Epoch 26: val_accuracy did not improve from 0.68907\n",
      "250/250 [==============================] - 2s 9ms/step - loss: 0.7212 - accuracy: 0.6834 - val_loss: 0.7226 - val_accuracy: 0.6861 - lr: 2.5000e-04\n",
      "Epoch 27/50\n",
      "244/250 [============================>.] - ETA: 0s - loss: 0.7212 - accuracy: 0.6897\n",
      "Epoch 27: val_accuracy did not improve from 0.68907\n",
      "\n",
      "Epoch 27: ReduceLROnPlateau reducing learning rate to 0.0001250000059371814.\n",
      "250/250 [==============================] - 3s 10ms/step - loss: 0.7220 - accuracy: 0.6897 - val_loss: 0.7256 - val_accuracy: 0.6886 - lr: 2.5000e-04\n",
      "Epoch 28/50\n",
      "247/250 [============================>.] - ETA: 0s - loss: 0.7122 - accuracy: 0.6927\n",
      "Epoch 28: val_accuracy did not improve from 0.68907\n",
      "250/250 [==============================] - 2s 10ms/step - loss: 0.7119 - accuracy: 0.6927 - val_loss: 0.7182 - val_accuracy: 0.6886 - lr: 1.2500e-04\n",
      "Epoch 29/50\n",
      "247/250 [============================>.] - ETA: 0s - loss: 0.7130 - accuracy: 0.6852\n",
      "Epoch 29: val_accuracy did not improve from 0.68907\n",
      "250/250 [==============================] - 2s 9ms/step - loss: 0.7127 - accuracy: 0.6854 - val_loss: 0.7127 - val_accuracy: 0.6886 - lr: 1.2500e-04\n",
      "Epoch 30/50\n",
      "247/250 [============================>.] - ETA: 0s - loss: 0.7151 - accuracy: 0.6891\n",
      "Epoch 30: val_accuracy did not improve from 0.68907\n",
      "250/250 [==============================] - 2s 10ms/step - loss: 0.7149 - accuracy: 0.6896 - val_loss: 0.7209 - val_accuracy: 0.6871 - lr: 1.2500e-04\n",
      "Epoch 31/50\n",
      "244/250 [============================>.] - ETA: 0s - loss: 0.7146 - accuracy: 0.6910\n",
      "Epoch 31: val_accuracy did not improve from 0.68907\n",
      "250/250 [==============================] - 2s 10ms/step - loss: 0.7141 - accuracy: 0.6908 - val_loss: 0.7122 - val_accuracy: 0.6871 - lr: 1.2500e-04\n",
      "Epoch 32/50\n",
      "247/250 [============================>.] - ETA: 0s - loss: 0.7116 - accuracy: 0.6875\n",
      "Epoch 32: val_accuracy did not improve from 0.68907\n",
      "250/250 [==============================] - 3s 11ms/step - loss: 0.7108 - accuracy: 0.6876 - val_loss: 0.7204 - val_accuracy: 0.6891 - lr: 1.2500e-04\n",
      "Epoch 33/50\n",
      "244/250 [============================>.] - ETA: 0s - loss: 0.7096 - accuracy: 0.6934\n",
      "Epoch 33: val_accuracy did not improve from 0.68907\n",
      "250/250 [==============================] - 2s 10ms/step - loss: 0.7089 - accuracy: 0.6935 - val_loss: 0.7233 - val_accuracy: 0.6891 - lr: 1.2500e-04\n",
      "Epoch 34/50\n",
      "246/250 [============================>.] - ETA: 0s - loss: 0.7115 - accuracy: 0.6899\n",
      "Epoch 34: val_accuracy improved from 0.68907 to 0.69258, saving model to best_model_20250407-092603.h5\n",
      "\n",
      "Epoch 34: ReduceLROnPlateau reducing learning rate to 6.25000029685907e-05.\n",
      "250/250 [==============================] - 3s 11ms/step - loss: 0.7114 - accuracy: 0.6904 - val_loss: 0.7176 - val_accuracy: 0.6926 - lr: 1.2500e-04\n",
      "Epoch 35/50\n",
      "249/250 [============================>.] - ETA: 0s - loss: 0.7065 - accuracy: 0.6939\n",
      "Epoch 35: val_accuracy did not improve from 0.69258\n",
      "250/250 [==============================] - 3s 10ms/step - loss: 0.7060 - accuracy: 0.6942 - val_loss: 0.7102 - val_accuracy: 0.6876 - lr: 6.2500e-05\n",
      "Epoch 36/50\n",
      "248/250 [============================>.] - ETA: 0s - loss: 0.7030 - accuracy: 0.6927\n",
      "Epoch 36: val_accuracy improved from 0.69258 to 0.69609, saving model to best_model_20250407-092603.h5\n",
      "250/250 [==============================] - 3s 10ms/step - loss: 0.7031 - accuracy: 0.6928 - val_loss: 0.7122 - val_accuracy: 0.6961 - lr: 6.2500e-05\n",
      "Epoch 37/50\n",
      "246/250 [============================>.] - ETA: 0s - loss: 0.7071 - accuracy: 0.6922\n",
      "Epoch 37: val_accuracy did not improve from 0.69609\n",
      "250/250 [==============================] - 2s 10ms/step - loss: 0.7077 - accuracy: 0.6920 - val_loss: 0.7079 - val_accuracy: 0.6921 - lr: 6.2500e-05\n",
      "Epoch 38/50\n",
      "249/250 [============================>.] - ETA: 0s - loss: 0.7037 - accuracy: 0.6950\n",
      "Epoch 38: val_accuracy did not improve from 0.69609\n",
      "250/250 [==============================] - 3s 10ms/step - loss: 0.7034 - accuracy: 0.6952 - val_loss: 0.7124 - val_accuracy: 0.6956 - lr: 6.2500e-05\n",
      "Epoch 39/50\n",
      "250/250 [==============================] - ETA: 0s - loss: 0.7062 - accuracy: 0.6985\n",
      "Epoch 39: val_accuracy did not improve from 0.69609\n",
      "250/250 [==============================] - 3s 10ms/step - loss: 0.7062 - accuracy: 0.6985 - val_loss: 0.7128 - val_accuracy: 0.6906 - lr: 6.2500e-05\n",
      "Epoch 40/50\n",
      "248/250 [============================>.] - ETA: 0s - loss: 0.7081 - accuracy: 0.6896\n",
      "Epoch 40: val_accuracy improved from 0.69609 to 0.69659, saving model to best_model_20250407-092603.h5\n",
      "\n",
      "Epoch 40: ReduceLROnPlateau reducing learning rate to 3.125000148429535e-05.\n",
      "250/250 [==============================] - 2s 10ms/step - loss: 0.7080 - accuracy: 0.6898 - val_loss: 0.7105 - val_accuracy: 0.6966 - lr: 6.2500e-05\n",
      "Epoch 41/50\n",
      "245/250 [============================>.] - ETA: 0s - loss: 0.7008 - accuracy: 0.6895\n",
      "Epoch 41: val_accuracy did not improve from 0.69659\n",
      "250/250 [==============================] - 2s 9ms/step - loss: 0.7021 - accuracy: 0.6894 - val_loss: 0.7061 - val_accuracy: 0.6936 - lr: 3.1250e-05\n",
      "Epoch 42/50\n",
      "248/250 [============================>.] - ETA: 0s - loss: 0.6991 - accuracy: 0.6958\n",
      "Epoch 42: val_accuracy did not improve from 0.69659\n",
      "250/250 [==============================] - 2s 9ms/step - loss: 0.7001 - accuracy: 0.6953 - val_loss: 0.7079 - val_accuracy: 0.6936 - lr: 3.1250e-05\n",
      "Epoch 43/50\n",
      "249/250 [============================>.] - ETA: 0s - loss: 0.7019 - accuracy: 0.6926\n",
      "Epoch 43: val_accuracy improved from 0.69659 to 0.69709, saving model to best_model_20250407-092603.h5\n",
      "250/250 [==============================] - 3s 11ms/step - loss: 0.7017 - accuracy: 0.6927 - val_loss: 0.7083 - val_accuracy: 0.6971 - lr: 3.1250e-05\n",
      "Epoch 44/50\n",
      "249/250 [============================>.] - ETA: 0s - loss: 0.6972 - accuracy: 0.6958\n",
      "Epoch 44: val_accuracy did not improve from 0.69709\n",
      "\n",
      "Epoch 44: ReduceLROnPlateau reducing learning rate to 1.5625000742147677e-05.\n",
      "250/250 [==============================] - 2s 9ms/step - loss: 0.6972 - accuracy: 0.6957 - val_loss: 0.7080 - val_accuracy: 0.6956 - lr: 3.1250e-05\n",
      "Epoch 45/50\n",
      "249/250 [============================>.] - ETA: 0s - loss: 0.7005 - accuracy: 0.6923\n",
      "Epoch 45: val_accuracy did not improve from 0.69709\n",
      "250/250 [==============================] - 2s 9ms/step - loss: 0.7006 - accuracy: 0.6923 - val_loss: 0.7065 - val_accuracy: 0.6921 - lr: 1.5625e-05\n",
      "Epoch 46/50\n",
      "246/250 [============================>.] - ETA: 0s - loss: 0.7029 - accuracy: 0.6950\n",
      "Epoch 46: val_accuracy did not improve from 0.69709\n",
      "250/250 [==============================] - 2s 8ms/step - loss: 0.7037 - accuracy: 0.6948 - val_loss: 0.7074 - val_accuracy: 0.6941 - lr: 1.5625e-05\n"
     ]
    }
   ],
   "source": [
    "# Train Model\n",
    "history = model.fit(\n",
    "    X_train, y_train,\n",
    "    epochs=50,\n",
    "    batch_size=32,\n",
    "    validation_data=(X_test, y_test),\n",
    "    callbacks=[early_stop, checkpoint, reduce_lr],\n",
    "    verbose=1\n",
    ")"
   ]
  },
  {
   "cell_type": "markdown",
   "metadata": {},
   "source": [
    "## Evaluate Model"
   ]
  },
  {
   "cell_type": "code",
   "execution_count": 23,
   "metadata": {},
   "outputs": [
    {
     "name": "stdout",
     "output_type": "stream",
     "text": [
      "Test Accuracy: 0.6936\n"
     ]
    }
   ],
   "source": [
    "# Evaluate Model\n",
    "loss, accuracy = model.evaluate(X_test, y_test, verbose=0)\n",
    "print(f\"Test Accuracy: {accuracy:.4f}\")"
   ]
  },
  {
   "cell_type": "markdown",
   "metadata": {},
   "source": [
    "## Classification Report"
   ]
  },
  {
   "cell_type": "code",
   "execution_count": 24,
   "metadata": {},
   "outputs": [
    {
     "name": "stdout",
     "output_type": "stream",
     "text": [
      "63/63 [==============================] - 1s 3ms/step\n",
      "\n",
      "Classification Report:\n",
      "              precision    recall  f1-score   support\n",
      "\n",
      "           A       0.67      0.49      0.56       199\n",
      "         MYL       0.53      0.60      0.56       199\n",
      "        NFLX       0.93      0.96      0.95       199\n",
      "         NFX       0.42      0.20      0.28       200\n",
      "          NI       0.66      0.76      0.71       200\n",
      "         NKE       0.74      0.78      0.76       199\n",
      "        NLSN       0.55      0.76      0.64       200\n",
      "         NOC       1.00      1.00      1.00       199\n",
      "         NOV       0.58      0.57      0.58       199\n",
      "         NRG       0.77      0.81      0.79       200\n",
      "\n",
      "    accuracy                           0.69      1994\n",
      "   macro avg       0.69      0.69      0.68      1994\n",
      "weighted avg       0.69      0.69      0.68      1994\n",
      "\n"
     ]
    }
   ],
   "source": [
    "# Classification Report\n",
    "y_pred = model.predict(X_test)\n",
    "y_pred_classes = np.argmax(y_pred, axis=1)\n",
    "\n",
    "print(\"\\nClassification Report:\")\n",
    "print(classification_report(y_test, y_pred_classes, target_names=label_encoder.classes_))"
   ]
  },
  {
   "cell_type": "code",
   "execution_count": 25,
   "metadata": {},
   "outputs": [
    {
     "data": {
      "image/png": "[encoded data removed]",
      "text/plain": [
       "<Figure size 1000x800 with 2 Axes>"
      ]
     },
     "metadata": {},
     "output_type": "display_data"
    }
   ],
   "source": [
    "# Confusion Matrix\n",
    "conf_matrix = confusion_matrix(y_test, y_pred_classes)\n",
    "plt.figure(figsize=(10, 8))\n",
    "sns.heatmap(conf_matrix, annot=True, fmt=\"d\", cmap=\"Blues\", \n",
    "            xticklabels=label_encoder.classes_, \n",
    "            yticklabels=label_encoder.classes_)\n",
    "plt.xlabel(\"Predicted Label\")\n",
    "plt.ylabel(\"True Label\")\n",
    "plt.title(\"Confusion Matrix\")\n",
    "plt.show()"
   ]
  },
  {
   "cell_type": "markdown",
   "metadata": {},
   "source": [
    "## Plot Training History"
   ]
  },
  {
   "cell_type": "code",
   "execution_count": 26,
   "metadata": {},
   "outputs": [
    {
     "data": {
      "image/png": "[encoded data removed]",
      "text/plain": [
       "<Figure size 1200x500 with 2 Axes>"
      ]
     },
     "metadata": {},
     "output_type": "display_data"
    }
   ],
   "source": [
    "# Plot Training History\n",
    "plt.figure(figsize=(12, 5))\n",
    "\n",
    "# Loss\n",
    "plt.subplot(1, 2, 1)\n",
    "plt.plot(history.history['loss'], label='Train Loss')\n",
    "plt.plot(history.history['val_loss'], label='Validation Loss')\n",
    "plt.title('Training & Validation Loss')\n",
    "plt.xlabel('Epoch')\n",
    "plt.ylabel('Loss')\n",
    "plt.legend()\n",
    "\n",
    "# Accuracy\n",
    "plt.subplot(1, 2, 2)\n",
    "plt.plot(history.history['accuracy'], label='Train Accuracy')\n",
    "plt.plot(history.history['val_accuracy'], label='Validation Accuracy')\n",
    "plt.title('Training & Validation Accuracy')\n",
    "plt.xlabel('Epoch')\n",
    "plt.ylabel('Accuracy')\n",
    "plt.legend()\n",
    "\n",
    "plt.tight_layout()\n",
    "plt.show()"
   ]
  }
 ],
 "metadata": {
  "kernelspec": {
   "display_name": "Python 3",
   "language": "python",
   "name": "python3"
  },
  "language_info": {
   "codemirror_mode": {
    "name": "ipython",
    "version": 3
   },
   "file_extension": ".py",
   "mimetype": "text/x-python",
   "name": "python",
   "nbconvert_exporter": "python",
   "pygments_lexer": "ipython3",
   "version": "3.11.5"
  }
 },
 "nbformat": 4,
 "nbformat_minor": 2
}
