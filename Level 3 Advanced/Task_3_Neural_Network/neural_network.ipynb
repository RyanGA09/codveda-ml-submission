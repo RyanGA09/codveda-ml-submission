{
 "cells": [
  {
   "cell_type": "markdown",
   "metadata": {},
   "source": [
    "# Task 3: Build a Neural Network"
   ]
  },
  {
   "cell_type": "markdown",
   "metadata": {},
   "source": [
    "## Library"
   ]
  },
  {
   "cell_type": "code",
   "execution_count": 2,
   "metadata": {},
   "outputs": [],
   "source": [
    "# Import Library\n",
    "import os\n",
    "import pandas as pd\n",
    "import numpy as np\n",
    "import matplotlib.pyplot as plt\n",
    "from tensorflow.keras.models import Model\n",
    "from tensorflow.keras.layers import Input, LSTM, Dense, Dropout, Bidirectional, BatchNormalization, Attention, GlobalAveragePooling1D\n",
    "from tensorflow.keras.callbacks import EarlyStopping, ModelCheckpoint, ReduceLROnPlateau\n",
    "from tensorflow.keras.utils import to_categorical\n",
    "from tensorflow.keras.optimizers import Adam\n",
    "from tensorflow.keras.regularizers import l2\n",
    "from sklearn.preprocessing import MinMaxScaler, LabelEncoder\n",
    "from sklearn.model_selection import train_test_split\n",
    "from sklearn.metrics import classification_report, confusion_matrix\n",
    "from sklearn.utils import class_weight\n",
    "import seaborn as sns\n",
    "from datetime import datetime"
   ]
  },
  {
   "cell_type": "markdown",
   "metadata": {},
   "source": [
    "## Load Data"
   ]
  },
  {
   "cell_type": "code",
   "execution_count": 3,
   "metadata": {},
   "outputs": [],
   "source": [
    "DATA_DIR = \"data\"\n",
    "os.makedirs(DATA_DIR, exist_ok=True)\n",
    "\n",
    "data_path = os.path.join(DATA_DIR, \"Stock Prices Data Set.csv\")\n",
    "data = pd.read_csv(data_path)"
   ]
  },
  {
   "cell_type": "code",
   "execution_count": 4,
   "metadata": {},
   "outputs": [
    {
     "name": "stdout",
     "output_type": "stream",
     "text": [
      "Stock Prices Data Shape: (497472, 7)\n"
     ]
    }
   ],
   "source": [
    "print(\"Stock Prices Data Shape:\", data.shape)"
   ]
  },
  {
   "cell_type": "code",
   "execution_count": 5,
   "metadata": {},
   "outputs": [
    {
     "name": "stdout",
     "output_type": "stream",
     "text": [
      "Stock Prices Data Preview:\n"
     ]
    },
    {
     "data": {
      "application/vnd.microsoft.datawrangler.viewer.v0+json": {
       "columns": [
        {
         "name": "index",
         "rawType": "int64",
         "type": "integer"
        },
        {
         "name": "symbol",
         "rawType": "object",
         "type": "string"
        },
        {
         "name": "date",
         "rawType": "object",
         "type": "string"
        },
        {
         "name": "open",
         "rawType": "float64",
         "type": "float"
        },
        {
         "name": "high",
         "rawType": "float64",
         "type": "float"
        },
        {
         "name": "low",
         "rawType": "float64",
         "type": "float"
        },
        {
         "name": "close",
         "rawType": "float64",
         "type": "float"
        },
        {
         "name": "volume",
         "rawType": "int64",
         "type": "integer"
        }
       ],
       "conversionMethod": "pd.DataFrame",
       "ref": "e4de73c7-7c11-4031-a672-35a0a64ffa4c",
       "rows": [
        [
         "0",
         "AAL",
         "2014-01-02",
         "25.07",
         "25.82",
         "25.06",
         "25.36",
         "8998943"
        ],
        [
         "1",
         "AAPL",
         "2014-01-02",
         "79.3828",
         "79.5756",
         "78.8601",
         "79.0185",
         "58791957"
        ],
        [
         "2",
         "AAP",
         "2014-01-02",
         "110.36",
         "111.88",
         "109.29",
         "109.74",
         "542711"
        ],
        [
         "3",
         "ABBV",
         "2014-01-02",
         "52.12",
         "52.33",
         "51.52",
         "51.98",
         "4569061"
        ],
        [
         "4",
         "ABC",
         "2014-01-02",
         "70.11",
         "70.23",
         "69.48",
         "69.89",
         "1148391"
        ]
       ],
       "shape": {
        "columns": 7,
        "rows": 5
       }
      },
      "text/html": [
       "<div>\n",
       "<style scoped>\n",
       "    .dataframe tbody tr th:only-of-type {\n",
       "        vertical-align: middle;\n",
       "    }\n",
       "\n",
       "    .dataframe tbody tr th {\n",
       "        vertical-align: top;\n",
       "    }\n",
       "\n",
       "    .dataframe thead th {\n",
       "        text-align: right;\n",
       "    }\n",
       "</style>\n",
       "<table border=\"1\" class=\"dataframe\">\n",
       "  <thead>\n",
       "    <tr style=\"text-align: right;\">\n",
       "      <th></th>\n",
       "      <th>symbol</th>\n",
       "      <th>date</th>\n",
       "      <th>open</th>\n",
       "      <th>high</th>\n",
       "      <th>low</th>\n",
       "      <th>close</th>\n",
       "      <th>volume</th>\n",
       "    </tr>\n",
       "  </thead>\n",
       "  <tbody>\n",
       "    <tr>\n",
       "      <th>0</th>\n",
       "      <td>AAL</td>\n",
       "      <td>2014-01-02</td>\n",
       "      <td>25.0700</td>\n",
       "      <td>25.8200</td>\n",
       "      <td>25.0600</td>\n",
       "      <td>25.3600</td>\n",
       "      <td>8998943</td>\n",
       "    </tr>\n",
       "    <tr>\n",
       "      <th>1</th>\n",
       "      <td>AAPL</td>\n",
       "      <td>2014-01-02</td>\n",
       "      <td>79.3828</td>\n",
       "      <td>79.5756</td>\n",
       "      <td>78.8601</td>\n",
       "      <td>79.0185</td>\n",
       "      <td>58791957</td>\n",
       "    </tr>\n",
       "    <tr>\n",
       "      <th>2</th>\n",
       "      <td>AAP</td>\n",
       "      <td>2014-01-02</td>\n",
       "      <td>110.3600</td>\n",
       "      <td>111.8800</td>\n",
       "      <td>109.2900</td>\n",
       "      <td>109.7400</td>\n",
       "      <td>542711</td>\n",
       "    </tr>\n",
       "    <tr>\n",
       "      <th>3</th>\n",
       "      <td>ABBV</td>\n",
       "      <td>2014-01-02</td>\n",
       "      <td>52.1200</td>\n",
       "      <td>52.3300</td>\n",
       "      <td>51.5200</td>\n",
       "      <td>51.9800</td>\n",
       "      <td>4569061</td>\n",
       "    </tr>\n",
       "    <tr>\n",
       "      <th>4</th>\n",
       "      <td>ABC</td>\n",
       "      <td>2014-01-02</td>\n",
       "      <td>70.1100</td>\n",
       "      <td>70.2300</td>\n",
       "      <td>69.4800</td>\n",
       "      <td>69.8900</td>\n",
       "      <td>1148391</td>\n",
       "    </tr>\n",
       "  </tbody>\n",
       "</table>\n",
       "</div>"
      ],
      "text/plain": [
       "  symbol        date      open      high       low     close    volume\n",
       "0    AAL  2014-01-02   25.0700   25.8200   25.0600   25.3600   8998943\n",
       "1   AAPL  2014-01-02   79.3828   79.5756   78.8601   79.0185  58791957\n",
       "2    AAP  2014-01-02  110.3600  111.8800  109.2900  109.7400    542711\n",
       "3   ABBV  2014-01-02   52.1200   52.3300   51.5200   51.9800   4569061\n",
       "4    ABC  2014-01-02   70.1100   70.2300   69.4800   69.8900   1148391"
      ]
     },
     "metadata": {},
     "output_type": "display_data"
    }
   ],
   "source": [
    "print(\"Stock Prices Data Preview:\")\n",
    "display(data.head())"
   ]
  },
  {
   "cell_type": "markdown",
   "metadata": {},
   "source": [
    "## Preprocessing"
   ]
  },
  {
   "cell_type": "code",
   "execution_count": 6,
   "metadata": {},
   "outputs": [],
   "source": [
    "# Convert and sort by date\n",
    "data[\"date\"] = pd.to_datetime(data[\"date\"])\n",
    "data.sort_values(by=[\"symbol\", \"date\"], inplace=True)"
   ]
  },
  {
   "cell_type": "code",
   "execution_count": 7,
   "metadata": {},
   "outputs": [],
   "source": [
    "# Remove duplicates if any\n",
    "data.drop_duplicates(subset=[\"symbol\", \"date\"], inplace=True)"
   ]
  },
  {
   "cell_type": "code",
   "execution_count": 8,
   "metadata": {},
   "outputs": [],
   "source": [
    "# Take the Top-N most frequently occurring symbol\n",
    "top_symbols = data['symbol'].value_counts().nlargest(10).index\n",
    "data = data[data['symbol'].isin(top_symbols)]"
   ]
  },
  {
   "cell_type": "code",
   "execution_count": 9,
   "metadata": {},
   "outputs": [],
   "source": [
    "# Encode target label\n",
    "label_encoder = LabelEncoder()\n",
    "data[\"symbol_encoded\"] = label_encoder.fit_transform(data[\"symbol\"])"
   ]
  },
  {
   "cell_type": "code",
   "execution_count": 10,
   "metadata": {},
   "outputs": [],
   "source": [
    "# Define features and target\n",
    "features = [\"open\", \"high\", \"low\", \"close\", \"volume\"]\n",
    "target = \"symbol_encoded\""
   ]
  },
  {
   "cell_type": "code",
   "execution_count": 11,
   "metadata": {},
   "outputs": [],
   "source": [
    "# Remove rows with missing or zero volume (if any)\n",
    "data = data.dropna(subset=features)\n",
    "data = data[data[\"volume\"] > 0]"
   ]
  },
  {
   "cell_type": "code",
   "execution_count": 12,
   "metadata": {},
   "outputs": [],
   "source": [
    "# Normalize features\n",
    "scaler = MinMaxScaler()\n",
    "data[features] = scaler.fit_transform(data[features])"
   ]
  },
  {
   "cell_type": "code",
   "execution_count": 13,
   "metadata": {},
   "outputs": [],
   "source": [
    "# Drop rows with NaN or inf after normalization\n",
    "data = data.replace([np.inf, -np.inf], np.nan)\n",
    "data = data.dropna()"
   ]
  },
  {
   "cell_type": "code",
   "execution_count": 14,
   "metadata": {},
   "outputs": [],
   "source": [
    "# Create sequences per stock symbol\n",
    "def create_symbol_sequences(df, time_steps=30):\n",
    "    X, y = [], []\n",
    "    symbols = df[\"symbol\"].unique()\n",
    "    for symbol in symbols:\n",
    "        temp = df[df[\"symbol\"] == symbol]\n",
    "        values = temp[features].values.astype(np.float32)\n",
    "        labels = temp[target].values\n",
    "        if len(values) <= time_steps:\n",
    "            continue\n",
    "        for i in range(len(values) - time_steps):\n",
    "            X.append(values[i:i+time_steps])\n",
    "            y.append(labels[i+time_steps])\n",
    "    return np.array(X), np.array(y)\n",
    "\n",
    "TIME_STEPS = 30\n",
    "X_seq, y_seq = create_symbol_sequences(data, time_steps=TIME_STEPS)"
   ]
  },
  {
   "cell_type": "code",
   "execution_count": 15,
   "metadata": {},
   "outputs": [
    {
     "name": "stdout",
     "output_type": "stream",
     "text": [
      "Total sequences created: 9770\n"
     ]
    }
   ],
   "source": [
    "print(f\"Total sequences created: {X_seq.shape[0]}\")"
   ]
  },
  {
   "cell_type": "code",
   "execution_count": 16,
   "metadata": {},
   "outputs": [
    {
     "name": "stdout",
     "output_type": "stream",
     "text": [
      "Input shape: (9770, 30, 5), Output shape: (9770,)\n"
     ]
    }
   ],
   "source": [
    "print(f\"Input shape: {X_seq.shape}, Output shape: {y_seq.shape}\")"
   ]
  },
  {
   "cell_type": "markdown",
   "metadata": {},
   "source": [
    "## One Hot Encoding for Targets"
   ]
  },
  {
   "cell_type": "code",
   "execution_count": 17,
   "metadata": {},
   "outputs": [],
   "source": [
    "# One Hot Encoding for Targets\n",
    "y_seq_cat = to_categorical(y_seq)"
   ]
  },
  {
   "cell_type": "markdown",
   "metadata": {},
   "source": [
    "## Split dataset"
   ]
  },
  {
   "cell_type": "code",
   "execution_count": 18,
   "metadata": {},
   "outputs": [],
   "source": [
    "# Split dataset\n",
    "X_train, X_test, y_train_cat, y_test_cat = train_test_split(\n",
    "    X_seq, y_seq_cat, test_size=0.2, random_state=42, stratify=y_seq\n",
    ")"
   ]
  },
  {
   "cell_type": "markdown",
   "metadata": {},
   "source": [
    "## Compute class weights"
   ]
  },
  {
   "cell_type": "code",
   "execution_count": 19,
   "metadata": {},
   "outputs": [],
   "source": [
    "# Compute class weights\n",
    "y_integers = np.argmax(y_train_cat, axis=1)\n",
    "class_weights = class_weight.compute_class_weight(class_weight='balanced', classes=np.unique(y_integers), y=y_integers)\n",
    "class_weights = dict(enumerate(class_weights))"
   ]
  },
  {
   "cell_type": "markdown",
   "metadata": {},
   "source": [
    "## Build Neural Network Model"
   ]
  },
  {
   "cell_type": "code",
   "execution_count": 20,
   "metadata": {},
   "outputs": [],
   "source": [
    "# Build Neural Network Model with Attention\n",
    "input_layer = Input(shape=(X_train.shape[1], X_train.shape[2]))\n",
    "x = Bidirectional(LSTM(128, return_sequences=True))(input_layer)\n",
    "x = BatchNormalization()(x)\n",
    "x = Dropout(0.3)(x)\n",
    "\n",
    "x = Bidirectional(LSTM(64, return_sequences=True))(x)\n",
    "x = BatchNormalization()(x)\n",
    "x = Dropout(0.3)(x)\n",
    "\n",
    "attention = Attention()([x, x])\n",
    "x = GlobalAveragePooling1D()(attention)\n",
    "\n",
    "x = Dense(64, activation='relu', kernel_regularizer=l2(0.001))(x)\n",
    "x = Dense(32, activation='relu', kernel_regularizer=l2(0.001))(x)\n",
    "output = Dense(y_train_cat.shape[1], activation='softmax')(x)\n",
    "\n",
    "model = Model(inputs=input_layer, outputs=output)\n",
    "model.compile(optimizer=Adam(learning_rate=0.001), loss='categorical_crossentropy', metrics=['accuracy'])"
   ]
  },
  {
   "cell_type": "code",
   "execution_count": 21,
   "metadata": {},
   "outputs": [],
   "source": [
    "# Callbacks (use .h5 to avoid errors)\n",
    "now = datetime.now().strftime(\"%Y%m%d-%H%M%S\")\n",
    "model_path = f\"best_model_{now}.h5\"\n",
    "early_stop = EarlyStopping(monitor='val_loss', patience=10, restore_best_weights=True)\n",
    "checkpoint = ModelCheckpoint(\n",
    "    filepath=model_path,\n",
    "    monitor='val_accuracy',\n",
    "    save_best_only=True,\n",
    "    save_weights_only=False,\n",
    "    mode='max',\n",
    "    verbose=1\n",
    ")\n",
    "reduce_lr = ReduceLROnPlateau(monitor='val_loss', patience=3, factor=0.5, verbose=1)"
   ]
  },
  {
   "cell_type": "markdown",
   "metadata": {},
   "source": [
    "## Train Model"
   ]
  },
  {
   "cell_type": "code",
   "execution_count": 22,
   "metadata": {},
   "outputs": [
    {
     "name": "stdout",
     "output_type": "stream",
     "text": [
      "Epoch 1/100\n",
      "244/245 [============================>.] - ETA: 0s - loss: 1.2422 - accuracy: 0.5666\n",
      "Epoch 1: val_accuracy improved from -inf to 0.12180, saving model to best_model_20250407-104051.h5\n",
      "245/245 [==============================] - 18s 51ms/step - loss: 1.2422 - accuracy: 0.5664 - val_loss: 3.1402 - val_accuracy: 0.1218 - lr: 0.0010\n",
      "Epoch 2/100\n",
      "  3/245 [..............................] - ETA: 9s - loss: 1.1894 - accuracy: 0.5625 "
     ]
    },
    {
     "name": "stderr",
     "output_type": "stream",
     "text": [
      "c:\\Users\\Ryan\\AppData\\Local\\Programs\\Python\\Python311\\Lib\\site-packages\\keras\\src\\engine\\training.py:3079: UserWarning: You are saving your model as an HDF5 file via `model.save()`. This file format is considered legacy. We recommend using instead the native Keras format, e.g. `model.save('my_model.keras')`.\n",
      "  saving_api.save_model(\n"
     ]
    },
    {
     "name": "stdout",
     "output_type": "stream",
     "text": [
      "244/245 [============================>.] - ETA: 0s - loss: 0.9967 - accuracy: 0.6367\n",
      "Epoch 2: val_accuracy improved from 0.12180 to 0.39304, saving model to best_model_20250407-104051.h5\n",
      "245/245 [==============================] - 10s 42ms/step - loss: 0.9975 - accuracy: 0.6365 - val_loss: 1.8622 - val_accuracy: 0.3930 - lr: 0.0010\n",
      "Epoch 3/100\n",
      "244/245 [============================>.] - ETA: 0s - loss: 0.9198 - accuracy: 0.6580\n",
      "Epoch 3: val_accuracy improved from 0.39304 to 0.49744, saving model to best_model_20250407-104051.h5\n",
      "245/245 [==============================] - 10s 42ms/step - loss: 0.9218 - accuracy: 0.6575 - val_loss: 1.3333 - val_accuracy: 0.4974 - lr: 0.0010\n",
      "Epoch 4/100\n",
      "245/245 [==============================] - ETA: 0s - loss: 0.9089 - accuracy: 0.6594\n",
      "Epoch 4: val_accuracy improved from 0.49744 to 0.62590, saving model to best_model_20250407-104051.h5\n",
      "245/245 [==============================] - 10s 43ms/step - loss: 0.9089 - accuracy: 0.6594 - val_loss: 1.0692 - val_accuracy: 0.6259 - lr: 0.0010\n",
      "Epoch 5/100\n",
      "244/245 [============================>.] - ETA: 0s - loss: 0.8766 - accuracy: 0.6737\n",
      "Epoch 5: val_accuracy improved from 0.62590 to 0.64330, saving model to best_model_20250407-104051.h5\n",
      "245/245 [==============================] - 11s 43ms/step - loss: 0.8774 - accuracy: 0.6734 - val_loss: 0.9314 - val_accuracy: 0.6433 - lr: 0.0010\n",
      "Epoch 6/100\n",
      "244/245 [============================>.] - ETA: 0s - loss: 0.8297 - accuracy: 0.6798\n",
      "Epoch 6: val_accuracy improved from 0.64330 to 0.69754, saving model to best_model_20250407-104051.h5\n",
      "245/245 [==============================] - 10s 43ms/step - loss: 0.8298 - accuracy: 0.6798 - val_loss: 0.8143 - val_accuracy: 0.6975 - lr: 0.0010\n",
      "Epoch 7/100\n",
      "245/245 [==============================] - ETA: 0s - loss: 0.8041 - accuracy: 0.6937\n",
      "Epoch 7: val_accuracy did not improve from 0.69754\n",
      "245/245 [==============================] - 11s 43ms/step - loss: 0.8041 - accuracy: 0.6937 - val_loss: 1.3369 - val_accuracy: 0.5855 - lr: 0.0010\n",
      "Epoch 8/100\n",
      "245/245 [==============================] - ETA: 0s - loss: 0.7651 - accuracy: 0.7041\n",
      "Epoch 8: val_accuracy did not improve from 0.69754\n",
      "245/245 [==============================] - 11s 45ms/step - loss: 0.7651 - accuracy: 0.7041 - val_loss: 1.0011 - val_accuracy: 0.6377 - lr: 0.0010\n",
      "Epoch 9/100\n",
      "244/245 [============================>.] - ETA: 0s - loss: 0.7493 - accuracy: 0.7095\n",
      "Epoch 9: val_accuracy did not improve from 0.69754\n",
      "\n",
      "Epoch 9: ReduceLROnPlateau reducing learning rate to 0.0005000000237487257.\n",
      "245/245 [==============================] - 10s 42ms/step - loss: 0.7492 - accuracy: 0.7097 - val_loss: 0.8519 - val_accuracy: 0.6704 - lr: 0.0010\n",
      "Epoch 10/100\n",
      "244/245 [============================>.] - ETA: 0s - loss: 0.6624 - accuracy: 0.7523\n",
      "Epoch 10: val_accuracy improved from 0.69754 to 0.76100, saving model to best_model_20250407-104051.h5\n",
      "245/245 [==============================] - 11s 45ms/step - loss: 0.6625 - accuracy: 0.7524 - val_loss: 0.6479 - val_accuracy: 0.7610 - lr: 5.0000e-04\n",
      "Epoch 11/100\n",
      "245/245 [==============================] - ETA: 0s - loss: 0.6324 - accuracy: 0.7733\n",
      "Epoch 11: val_accuracy did not improve from 0.76100\n",
      "245/245 [==============================] - 10s 42ms/step - loss: 0.6324 - accuracy: 0.7733 - val_loss: 1.1531 - val_accuracy: 0.5747 - lr: 5.0000e-04\n",
      "Epoch 12/100\n",
      "245/245 [==============================] - ETA: 0s - loss: 0.5889 - accuracy: 0.7868\n",
      "Epoch 12: val_accuracy did not improve from 0.76100\n",
      "245/245 [==============================] - 10s 42ms/step - loss: 0.5889 - accuracy: 0.7868 - val_loss: 1.2236 - val_accuracy: 0.6428 - lr: 5.0000e-04\n",
      "Epoch 13/100\n",
      "244/245 [============================>.] - ETA: 0s - loss: 0.5720 - accuracy: 0.7909\n",
      "Epoch 13: val_accuracy did not improve from 0.76100\n",
      "\n",
      "Epoch 13: ReduceLROnPlateau reducing learning rate to 0.0002500000118743628.\n",
      "245/245 [==============================] - 13s 55ms/step - loss: 0.5721 - accuracy: 0.7907 - val_loss: 0.6772 - val_accuracy: 0.7334 - lr: 5.0000e-04\n",
      "Epoch 14/100\n",
      "245/245 [==============================] - ETA: 0s - loss: 0.4658 - accuracy: 0.8367\n",
      "Epoch 14: val_accuracy did not improve from 0.76100\n",
      "245/245 [==============================] - 14s 56ms/step - loss: 0.4658 - accuracy: 0.8367 - val_loss: 0.9760 - val_accuracy: 0.6894 - lr: 2.5000e-04\n",
      "Epoch 15/100\n",
      "244/245 [============================>.] - ETA: 0s - loss: 0.4281 - accuracy: 0.8592\n",
      "Epoch 15: val_accuracy improved from 0.76100 to 0.87052, saving model to best_model_20250407-104051.h5\n",
      "245/245 [==============================] - 14s 58ms/step - loss: 0.4280 - accuracy: 0.8593 - val_loss: 0.3778 - val_accuracy: 0.8705 - lr: 2.5000e-04\n",
      "Epoch 16/100\n",
      "244/245 [============================>.] - ETA: 0s - loss: 0.4225 - accuracy: 0.8564\n",
      "Epoch 16: val_accuracy did not improve from 0.87052\n",
      "245/245 [==============================] - 13s 52ms/step - loss: 0.4226 - accuracy: 0.8564 - val_loss: 2.1916 - val_accuracy: 0.5537 - lr: 2.5000e-04\n",
      "Epoch 17/100\n",
      "245/245 [==============================] - ETA: 0s - loss: 0.3995 - accuracy: 0.8641\n",
      "Epoch 17: val_accuracy did not improve from 0.87052\n",
      "245/245 [==============================] - 11s 43ms/step - loss: 0.3995 - accuracy: 0.8641 - val_loss: 0.5266 - val_accuracy: 0.8250 - lr: 2.5000e-04\n",
      "Epoch 18/100\n",
      "244/245 [============================>.] - ETA: 0s - loss: 0.3864 - accuracy: 0.8696\n",
      "Epoch 18: val_accuracy did not improve from 0.87052\n",
      "\n",
      "Epoch 18: ReduceLROnPlateau reducing learning rate to 0.0001250000059371814.\n",
      "245/245 [==============================] - 11s 44ms/step - loss: 0.3865 - accuracy: 0.8695 - val_loss: 0.4803 - val_accuracy: 0.8301 - lr: 2.5000e-04\n",
      "Epoch 19/100\n",
      "244/245 [============================>.] - ETA: 0s - loss: 0.3682 - accuracy: 0.8758\n",
      "Epoch 19: val_accuracy improved from 0.87052 to 0.88025, saving model to best_model_20250407-104051.h5\n",
      "245/245 [==============================] - 11s 45ms/step - loss: 0.3684 - accuracy: 0.8756 - val_loss: 0.3684 - val_accuracy: 0.8802 - lr: 1.2500e-04\n",
      "Epoch 20/100\n",
      "245/245 [==============================] - ETA: 0s - loss: 0.3549 - accuracy: 0.8828\n",
      "Epoch 20: val_accuracy did not improve from 0.88025\n",
      "245/245 [==============================] - 11s 45ms/step - loss: 0.3549 - accuracy: 0.8828 - val_loss: 0.4081 - val_accuracy: 0.8618 - lr: 1.2500e-04\n",
      "Epoch 21/100\n",
      "245/245 [==============================] - ETA: 0s - loss: 0.3508 - accuracy: 0.8865\n",
      "Epoch 21: val_accuracy did not improve from 0.88025\n",
      "245/245 [==============================] - 11s 44ms/step - loss: 0.3508 - accuracy: 0.8865 - val_loss: 0.5710 - val_accuracy: 0.8019 - lr: 1.2500e-04\n",
      "Epoch 22/100\n",
      "244/245 [============================>.] - ETA: 0s - loss: 0.3433 - accuracy: 0.8868\n",
      "Epoch 22: val_accuracy did not improve from 0.88025\n",
      "\n",
      "Epoch 22: ReduceLROnPlateau reducing learning rate to 6.25000029685907e-05.\n",
      "245/245 [==============================] - 11s 45ms/step - loss: 0.3434 - accuracy: 0.8868 - val_loss: 0.7998 - val_accuracy: 0.7492 - lr: 1.2500e-04\n",
      "Epoch 23/100\n",
      "244/245 [============================>.] - ETA: 0s - loss: 0.3296 - accuracy: 0.8928\n",
      "Epoch 23: val_accuracy improved from 0.88025 to 0.90020, saving model to best_model_20250407-104051.h5\n",
      "245/245 [==============================] - 13s 52ms/step - loss: 0.3299 - accuracy: 0.8925 - val_loss: 0.3151 - val_accuracy: 0.9002 - lr: 6.2500e-05\n",
      "Epoch 24/100\n",
      "245/245 [==============================] - ETA: 0s - loss: 0.3318 - accuracy: 0.8955\n",
      "Epoch 24: val_accuracy did not improve from 0.90020\n",
      "245/245 [==============================] - 14s 58ms/step - loss: 0.3318 - accuracy: 0.8955 - val_loss: 0.4328 - val_accuracy: 0.8552 - lr: 6.2500e-05\n",
      "Epoch 25/100\n",
      "244/245 [============================>.] - ETA: 0s - loss: 0.3300 - accuracy: 0.8913\n",
      "Epoch 25: val_accuracy did not improve from 0.90020\n",
      "245/245 [==============================] - 14s 57ms/step - loss: 0.3299 - accuracy: 0.8912 - val_loss: 0.8296 - val_accuracy: 0.7282 - lr: 6.2500e-05\n",
      "Epoch 26/100\n",
      "244/245 [============================>.] - ETA: 0s - loss: 0.3287 - accuracy: 0.8927\n",
      "Epoch 26: val_accuracy improved from 0.90020 to 0.91095, saving model to best_model_20250407-104051.h5\n",
      "245/245 [==============================] - 14s 59ms/step - loss: 0.3285 - accuracy: 0.8928 - val_loss: 0.2901 - val_accuracy: 0.9110 - lr: 6.2500e-05\n",
      "Epoch 27/100\n",
      "245/245 [==============================] - ETA: 0s - loss: 0.3281 - accuracy: 0.8916\n",
      "Epoch 27: val_accuracy did not improve from 0.91095\n",
      "245/245 [==============================] - 12s 50ms/step - loss: 0.3281 - accuracy: 0.8916 - val_loss: 0.3324 - val_accuracy: 0.8925 - lr: 6.2500e-05\n",
      "Epoch 28/100\n",
      "244/245 [============================>.] - ETA: 0s - loss: 0.3166 - accuracy: 0.9005\n",
      "Epoch 28: val_accuracy improved from 0.91095 to 0.91812, saving model to best_model_20250407-104051.h5\n",
      "245/245 [==============================] - 11s 44ms/step - loss: 0.3171 - accuracy: 0.9001 - val_loss: 0.2684 - val_accuracy: 0.9181 - lr: 6.2500e-05\n",
      "Epoch 29/100\n",
      "245/245 [==============================] - ETA: 0s - loss: 0.3192 - accuracy: 0.8970\n",
      "Epoch 29: val_accuracy did not improve from 0.91812\n",
      "245/245 [==============================] - 11s 44ms/step - loss: 0.3192 - accuracy: 0.8970 - val_loss: 0.3520 - val_accuracy: 0.8874 - lr: 6.2500e-05\n",
      "Epoch 30/100\n",
      "245/245 [==============================] - ETA: 0s - loss: 0.3213 - accuracy: 0.8951\n",
      "Epoch 30: val_accuracy did not improve from 0.91812\n",
      "245/245 [==============================] - 11s 44ms/step - loss: 0.3213 - accuracy: 0.8951 - val_loss: 0.3071 - val_accuracy: 0.9012 - lr: 6.2500e-05\n",
      "Epoch 31/100\n",
      "245/245 [==============================] - ETA: 0s - loss: 0.3107 - accuracy: 0.9017\n",
      "Epoch 31: val_accuracy did not improve from 0.91812\n",
      "\n",
      "Epoch 31: ReduceLROnPlateau reducing learning rate to 3.125000148429535e-05.\n",
      "245/245 [==============================] - 11s 44ms/step - loss: 0.3107 - accuracy: 0.9017 - val_loss: 1.3938 - val_accuracy: 0.6546 - lr: 6.2500e-05\n",
      "Epoch 32/100\n",
      "244/245 [============================>.] - ETA: 0s - loss: 0.3096 - accuracy: 0.8998\n",
      "Epoch 32: val_accuracy did not improve from 0.91812\n",
      "245/245 [==============================] - 12s 50ms/step - loss: 0.3098 - accuracy: 0.8997 - val_loss: 0.2744 - val_accuracy: 0.9176 - lr: 3.1250e-05\n",
      "Epoch 33/100\n",
      "244/245 [============================>.] - ETA: 0s - loss: 0.3059 - accuracy: 0.9019\n",
      "Epoch 33: val_accuracy did not improve from 0.91812\n",
      "245/245 [==============================] - 13s 52ms/step - loss: 0.3059 - accuracy: 0.9020 - val_loss: 0.3354 - val_accuracy: 0.8828 - lr: 3.1250e-05\n",
      "Epoch 34/100\n",
      "244/245 [============================>.] - ETA: 0s - loss: 0.3064 - accuracy: 0.9037\n",
      "Epoch 34: val_accuracy improved from 0.91812 to 0.92016, saving model to best_model_20250407-104051.h5\n",
      "245/245 [==============================] - 15s 63ms/step - loss: 0.3074 - accuracy: 0.9034 - val_loss: 0.2605 - val_accuracy: 0.9202 - lr: 3.1250e-05\n",
      "Epoch 35/100\n",
      "244/245 [============================>.] - ETA: 0s - loss: 0.2984 - accuracy: 0.9046\n",
      "Epoch 35: val_accuracy did not improve from 0.92016\n",
      "245/245 [==============================] - 15s 61ms/step - loss: 0.2985 - accuracy: 0.9047 - val_loss: 0.4005 - val_accuracy: 0.8726 - lr: 3.1250e-05\n",
      "Epoch 36/100\n",
      "244/245 [============================>.] - ETA: 0s - loss: 0.3079 - accuracy: 0.9028\n",
      "Epoch 36: val_accuracy did not improve from 0.92016\n",
      "245/245 [==============================] - 16s 66ms/step - loss: 0.3081 - accuracy: 0.9028 - val_loss: 0.6891 - val_accuracy: 0.7671 - lr: 3.1250e-05\n",
      "Epoch 37/100\n",
      "245/245 [==============================] - ETA: 0s - loss: 0.2978 - accuracy: 0.9046\n",
      "Epoch 37: val_accuracy did not improve from 0.92016\n",
      "\n",
      "Epoch 37: ReduceLROnPlateau reducing learning rate to 1.5625000742147677e-05.\n",
      "245/245 [==============================] - 13s 52ms/step - loss: 0.2978 - accuracy: 0.9046 - val_loss: 0.4286 - val_accuracy: 0.8562 - lr: 3.1250e-05\n",
      "Epoch 38/100\n",
      "245/245 [==============================] - ETA: 0s - loss: 0.2942 - accuracy: 0.9097\n",
      "Epoch 38: val_accuracy did not improve from 0.92016\n",
      "245/245 [==============================] - 11s 47ms/step - loss: 0.2942 - accuracy: 0.9097 - val_loss: 0.2561 - val_accuracy: 0.9161 - lr: 1.5625e-05\n",
      "Epoch 39/100\n",
      "245/245 [==============================] - ETA: 0s - loss: 0.3002 - accuracy: 0.9020\n",
      "Epoch 39: val_accuracy did not improve from 0.92016\n",
      "245/245 [==============================] - 12s 47ms/step - loss: 0.3002 - accuracy: 0.9020 - val_loss: 0.2655 - val_accuracy: 0.9140 - lr: 1.5625e-05\n",
      "Epoch 40/100\n",
      "245/245 [==============================] - ETA: 0s - loss: 0.2984 - accuracy: 0.9063\n",
      "Epoch 40: val_accuracy did not improve from 0.92016\n",
      "245/245 [==============================] - 12s 48ms/step - loss: 0.2984 - accuracy: 0.9063 - val_loss: 0.2679 - val_accuracy: 0.9171 - lr: 1.5625e-05\n",
      "Epoch 41/100\n",
      "244/245 [============================>.] - ETA: 0s - loss: 0.2957 - accuracy: 0.9062\n",
      "Epoch 41: val_accuracy did not improve from 0.92016\n",
      "245/245 [==============================] - 12s 50ms/step - loss: 0.2959 - accuracy: 0.9062 - val_loss: 0.2550 - val_accuracy: 0.9186 - lr: 1.5625e-05\n",
      "Epoch 42/100\n",
      "244/245 [============================>.] - ETA: 0s - loss: 0.2885 - accuracy: 0.9120\n",
      "Epoch 42: val_accuracy did not improve from 0.92016\n",
      "245/245 [==============================] - 11s 47ms/step - loss: 0.2885 - accuracy: 0.9120 - val_loss: 0.3063 - val_accuracy: 0.8956 - lr: 1.5625e-05\n",
      "Epoch 43/100\n",
      "244/245 [============================>.] - ETA: 0s - loss: 0.2934 - accuracy: 0.9075\n",
      "Epoch 43: val_accuracy did not improve from 0.92016\n",
      "245/245 [==============================] - 13s 51ms/step - loss: 0.2939 - accuracy: 0.9074 - val_loss: 0.2588 - val_accuracy: 0.9166 - lr: 1.5625e-05\n",
      "Epoch 44/100\n",
      "244/245 [============================>.] - ETA: 0s - loss: 0.2920 - accuracy: 0.9079\n",
      "Epoch 44: val_accuracy improved from 0.92016 to 0.92221, saving model to best_model_20250407-104051.h5\n",
      "\n",
      "Epoch 44: ReduceLROnPlateau reducing learning rate to 7.812500371073838e-06.\n",
      "245/245 [==============================] - 14s 59ms/step - loss: 0.2930 - accuracy: 0.9078 - val_loss: 0.2575 - val_accuracy: 0.9222 - lr: 1.5625e-05\n",
      "Epoch 45/100\n",
      "244/245 [============================>.] - ETA: 0s - loss: 0.2885 - accuracy: 0.9107\n",
      "Epoch 45: val_accuracy did not improve from 0.92221\n",
      "245/245 [==============================] - 14s 59ms/step - loss: 0.2884 - accuracy: 0.9108 - val_loss: 0.2530 - val_accuracy: 0.9181 - lr: 7.8125e-06\n",
      "Epoch 46/100\n",
      "244/245 [============================>.] - ETA: 0s - loss: 0.2850 - accuracy: 0.9141\n",
      "Epoch 46: val_accuracy did not improve from 0.92221\n",
      "245/245 [==============================] - 14s 59ms/step - loss: 0.2856 - accuracy: 0.9140 - val_loss: 0.2491 - val_accuracy: 0.9212 - lr: 7.8125e-06\n",
      "Epoch 47/100\n",
      "245/245 [==============================] - ETA: 0s - loss: 0.2917 - accuracy: 0.9089\n",
      "Epoch 47: val_accuracy did not improve from 0.92221\n",
      "245/245 [==============================] - 14s 58ms/step - loss: 0.2917 - accuracy: 0.9089 - val_loss: 0.2554 - val_accuracy: 0.9140 - lr: 7.8125e-06\n",
      "Epoch 48/100\n",
      "244/245 [============================>.] - ETA: 0s - loss: 0.2865 - accuracy: 0.9124\n",
      "Epoch 48: val_accuracy did not improve from 0.92221\n",
      "245/245 [==============================] - 11s 46ms/step - loss: 0.2863 - accuracy: 0.9125 - val_loss: 0.2796 - val_accuracy: 0.9125 - lr: 7.8125e-06\n",
      "Epoch 49/100\n",
      "245/245 [==============================] - ETA: 0s - loss: 0.2880 - accuracy: 0.9080\n",
      "Epoch 49: val_accuracy did not improve from 0.92221\n",
      "\n",
      "Epoch 49: ReduceLROnPlateau reducing learning rate to 3.906250185536919e-06.\n",
      "245/245 [==============================] - 12s 50ms/step - loss: 0.2880 - accuracy: 0.9080 - val_loss: 0.2515 - val_accuracy: 0.9191 - lr: 7.8125e-06\n",
      "Epoch 50/100\n",
      "245/245 [==============================] - ETA: 0s - loss: 0.2873 - accuracy: 0.9089\n",
      "Epoch 50: val_accuracy did not improve from 0.92221\n",
      "245/245 [==============================] - 12s 48ms/step - loss: 0.2873 - accuracy: 0.9089 - val_loss: 0.2527 - val_accuracy: 0.9197 - lr: 3.9063e-06\n",
      "Epoch 51/100\n",
      "244/245 [============================>.] - ETA: 0s - loss: 0.2869 - accuracy: 0.9098\n",
      "Epoch 51: val_accuracy did not improve from 0.92221\n",
      "245/245 [==============================] - 11s 45ms/step - loss: 0.2869 - accuracy: 0.9098 - val_loss: 0.2516 - val_accuracy: 0.9171 - lr: 3.9063e-06\n",
      "Epoch 52/100\n",
      "245/245 [==============================] - ETA: 0s - loss: 0.2864 - accuracy: 0.9095\n",
      "Epoch 52: val_accuracy improved from 0.92221 to 0.92272, saving model to best_model_20250407-104051.h5\n",
      "245/245 [==============================] - 11s 43ms/step - loss: 0.2864 - accuracy: 0.9095 - val_loss: 0.2479 - val_accuracy: 0.9227 - lr: 3.9063e-06\n",
      "Epoch 53/100\n",
      "244/245 [============================>.] - ETA: 0s - loss: 0.2789 - accuracy: 0.9138\n",
      "Epoch 53: val_accuracy did not improve from 0.92272\n",
      "245/245 [==============================] - 13s 53ms/step - loss: 0.2791 - accuracy: 0.9136 - val_loss: 0.2485 - val_accuracy: 0.9171 - lr: 3.9063e-06\n",
      "Epoch 54/100\n",
      "244/245 [============================>.] - ETA: 0s - loss: 0.2844 - accuracy: 0.9130\n",
      "Epoch 54: val_accuracy did not improve from 0.92272\n",
      "245/245 [==============================] - 14s 58ms/step - loss: 0.2847 - accuracy: 0.9129 - val_loss: 0.2664 - val_accuracy: 0.9104 - lr: 3.9063e-06\n",
      "Epoch 55/100\n",
      "244/245 [============================>.] - ETA: 0s - loss: 0.2860 - accuracy: 0.9097\n",
      "Epoch 55: val_accuracy did not improve from 0.92272\n",
      "245/245 [==============================] - 14s 58ms/step - loss: 0.2871 - accuracy: 0.9093 - val_loss: 0.2465 - val_accuracy: 0.9191 - lr: 3.9063e-06\n",
      "Epoch 56/100\n",
      "244/245 [============================>.] - ETA: 0s - loss: 0.2871 - accuracy: 0.9096\n",
      "Epoch 56: val_accuracy did not improve from 0.92272\n",
      "245/245 [==============================] - 16s 65ms/step - loss: 0.2873 - accuracy: 0.9094 - val_loss: 0.2598 - val_accuracy: 0.9150 - lr: 3.9063e-06\n",
      "Epoch 57/100\n",
      "244/245 [============================>.] - ETA: 0s - loss: 0.2863 - accuracy: 0.9119\n",
      "Epoch 57: val_accuracy did not improve from 0.92272\n",
      "245/245 [==============================] - 14s 56ms/step - loss: 0.2861 - accuracy: 0.9120 - val_loss: 0.2629 - val_accuracy: 0.9150 - lr: 3.9063e-06\n",
      "Epoch 58/100\n",
      "244/245 [============================>.] - ETA: 0s - loss: 0.2887 - accuracy: 0.9133\n",
      "Epoch 58: val_accuracy did not improve from 0.92272\n",
      "\n",
      "Epoch 58: ReduceLROnPlateau reducing learning rate to 1.9531250927684596e-06.\n",
      "245/245 [==============================] - 12s 47ms/step - loss: 0.2888 - accuracy: 0.9131 - val_loss: 0.2517 - val_accuracy: 0.9181 - lr: 3.9063e-06\n",
      "Epoch 59/100\n",
      "244/245 [============================>.] - ETA: 0s - loss: 0.2909 - accuracy: 0.9077\n",
      "Epoch 59: val_accuracy did not improve from 0.92272\n",
      "245/245 [==============================] - 11s 46ms/step - loss: 0.2910 - accuracy: 0.9076 - val_loss: 0.2479 - val_accuracy: 0.9181 - lr: 1.9531e-06\n",
      "Epoch 60/100\n",
      "244/245 [============================>.] - ETA: 0s - loss: 0.2895 - accuracy: 0.9074\n",
      "Epoch 60: val_accuracy did not improve from 0.92272\n",
      "245/245 [==============================] - 13s 52ms/step - loss: 0.2893 - accuracy: 0.9075 - val_loss: 0.2476 - val_accuracy: 0.9197 - lr: 1.9531e-06\n",
      "Epoch 61/100\n",
      "244/245 [============================>.] - ETA: 0s - loss: 0.2880 - accuracy: 0.9118\n",
      "Epoch 61: val_accuracy did not improve from 0.92272\n",
      "\n",
      "Epoch 61: ReduceLROnPlateau reducing learning rate to 9.765625463842298e-07.\n",
      "245/245 [==============================] - 13s 54ms/step - loss: 0.2882 - accuracy: 0.9117 - val_loss: 0.2469 - val_accuracy: 0.9207 - lr: 1.9531e-06\n",
      "Epoch 62/100\n",
      "244/245 [============================>.] - ETA: 0s - loss: 0.2829 - accuracy: 0.9124\n",
      "Epoch 62: val_accuracy did not improve from 0.92272\n",
      "245/245 [==============================] - 13s 54ms/step - loss: 0.2832 - accuracy: 0.9122 - val_loss: 0.2479 - val_accuracy: 0.9191 - lr: 9.7656e-07\n",
      "Epoch 63/100\n",
      "244/245 [============================>.] - ETA: 0s - loss: 0.2842 - accuracy: 0.9137\n",
      "Epoch 63: val_accuracy did not improve from 0.92272\n",
      "245/245 [==============================] - 15s 61ms/step - loss: 0.2843 - accuracy: 0.9135 - val_loss: 0.2479 - val_accuracy: 0.9181 - lr: 9.7656e-07\n",
      "Epoch 64/100\n",
      "244/245 [============================>.] - ETA: 0s - loss: 0.2868 - accuracy: 0.9100\n",
      "Epoch 64: val_accuracy did not improve from 0.92272\n",
      "\n",
      "Epoch 64: ReduceLROnPlateau reducing learning rate to 4.882812731921149e-07.\n",
      "245/245 [==============================] - 15s 63ms/step - loss: 0.2868 - accuracy: 0.9101 - val_loss: 0.2465 - val_accuracy: 0.9217 - lr: 9.7656e-07\n",
      "Epoch 65/100\n",
      "244/245 [============================>.] - ETA: 0s - loss: 0.2859 - accuracy: 0.9115\n",
      "Epoch 65: val_accuracy did not improve from 0.92272\n",
      "245/245 [==============================] - 14s 58ms/step - loss: 0.2861 - accuracy: 0.9115 - val_loss: 0.2471 - val_accuracy: 0.9197 - lr: 4.8828e-07\n",
      "Epoch 66/100\n",
      "245/245 [==============================] - ETA: 0s - loss: 0.2873 - accuracy: 0.9085\n",
      "Epoch 66: val_accuracy did not improve from 0.92272\n",
      "245/245 [==============================] - 13s 55ms/step - loss: 0.2873 - accuracy: 0.9085 - val_loss: 0.2465 - val_accuracy: 0.9207 - lr: 4.8828e-07\n",
      "Epoch 67/100\n",
      "244/245 [============================>.] - ETA: 0s - loss: 0.2838 - accuracy: 0.9120\n",
      "Epoch 67: val_accuracy did not improve from 0.92272\n",
      "245/245 [==============================] - 12s 48ms/step - loss: 0.2843 - accuracy: 0.9120 - val_loss: 0.2455 - val_accuracy: 0.9217 - lr: 4.8828e-07\n",
      "Epoch 68/100\n",
      "244/245 [============================>.] - ETA: 0s - loss: 0.2905 - accuracy: 0.9087\n",
      "Epoch 68: val_accuracy did not improve from 0.92272\n",
      "245/245 [==============================] - 12s 49ms/step - loss: 0.2909 - accuracy: 0.9085 - val_loss: 0.2472 - val_accuracy: 0.9181 - lr: 4.8828e-07\n",
      "Epoch 69/100\n",
      "245/245 [==============================] - ETA: 0s - loss: 0.2853 - accuracy: 0.9110\n",
      "Epoch 69: val_accuracy did not improve from 0.92272\n",
      "245/245 [==============================] - 12s 51ms/step - loss: 0.2853 - accuracy: 0.9110 - val_loss: 0.2490 - val_accuracy: 0.9191 - lr: 4.8828e-07\n",
      "Epoch 70/100\n",
      "245/245 [==============================] - ETA: 0s - loss: 0.2843 - accuracy: 0.9110\n",
      "Epoch 70: val_accuracy did not improve from 0.92272\n",
      "\n",
      "Epoch 70: ReduceLROnPlateau reducing learning rate to 2.4414063659605745e-07.\n",
      "245/245 [==============================] - 12s 50ms/step - loss: 0.2843 - accuracy: 0.9110 - val_loss: 0.2475 - val_accuracy: 0.9181 - lr: 4.8828e-07\n",
      "Epoch 71/100\n",
      "244/245 [============================>.] - ETA: 0s - loss: 0.2854 - accuracy: 0.9088\n",
      "Epoch 71: val_accuracy did not improve from 0.92272\n",
      "245/245 [==============================] - 12s 50ms/step - loss: 0.2857 - accuracy: 0.9086 - val_loss: 0.2468 - val_accuracy: 0.9186 - lr: 2.4414e-07\n",
      "Epoch 72/100\n",
      "244/245 [============================>.] - ETA: 0s - loss: 0.2919 - accuracy: 0.9038\n",
      "Epoch 72: val_accuracy did not improve from 0.92272\n",
      "245/245 [==============================] - 15s 60ms/step - loss: 0.2921 - accuracy: 0.9037 - val_loss: 0.2466 - val_accuracy: 0.9202 - lr: 2.4414e-07\n",
      "Epoch 73/100\n",
      "244/245 [============================>.] - ETA: 0s - loss: 0.2832 - accuracy: 0.9127\n",
      "Epoch 73: val_accuracy did not improve from 0.92272\n",
      "\n",
      "Epoch 73: ReduceLROnPlateau reducing learning rate to 1.2207031829802872e-07.\n",
      "245/245 [==============================] - 15s 62ms/step - loss: 0.2843 - accuracy: 0.9122 - val_loss: 0.2479 - val_accuracy: 0.9191 - lr: 2.4414e-07\n",
      "Epoch 74/100\n",
      "244/245 [============================>.] - ETA: 0s - loss: 0.2937 - accuracy: 0.9052\n",
      "Epoch 74: val_accuracy did not improve from 0.92272\n",
      "245/245 [==============================] - 16s 64ms/step - loss: 0.2937 - accuracy: 0.9053 - val_loss: 0.2479 - val_accuracy: 0.9191 - lr: 1.2207e-07\n",
      "Epoch 75/100\n",
      "245/245 [==============================] - ETA: 0s - loss: 0.2801 - accuracy: 0.9149\n",
      "Epoch 75: val_accuracy did not improve from 0.92272\n",
      "245/245 [==============================] - 15s 60ms/step - loss: 0.2801 - accuracy: 0.9149 - val_loss: 0.2475 - val_accuracy: 0.9186 - lr: 1.2207e-07\n",
      "Epoch 76/100\n",
      "244/245 [============================>.] - ETA: 0s - loss: 0.2841 - accuracy: 0.9115\n",
      "Epoch 76: val_accuracy did not improve from 0.92272\n",
      "\n",
      "Epoch 76: ReduceLROnPlateau reducing learning rate to 6.103515914901436e-08.\n",
      "245/245 [==============================] - 12s 48ms/step - loss: 0.2853 - accuracy: 0.9111 - val_loss: 0.2479 - val_accuracy: 0.9197 - lr: 1.2207e-07\n",
      "Epoch 77/100\n",
      "245/245 [==============================] - ETA: 0s - loss: 0.2871 - accuracy: 0.9103\n",
      "Epoch 77: val_accuracy did not improve from 0.92272\n",
      "245/245 [==============================] - 13s 54ms/step - loss: 0.2871 - accuracy: 0.9103 - val_loss: 0.2474 - val_accuracy: 0.9191 - lr: 6.1035e-08\n"
     ]
    }
   ],
   "source": [
    "# Train Model\n",
    "history = model.fit(\n",
    "    X_train, y_train_cat,\n",
    "    epochs=100,\n",
    "    batch_size=32,\n",
    "    validation_data=(X_test, y_test_cat),\n",
    "    callbacks=[early_stop, checkpoint, reduce_lr],\n",
    "    class_weight=class_weights,\n",
    "    verbose=1\n",
    ")"
   ]
  },
  {
   "cell_type": "markdown",
   "metadata": {},
   "source": [
    "## Evaluate Model"
   ]
  },
  {
   "cell_type": "code",
   "execution_count": 23,
   "metadata": {},
   "outputs": [
    {
     "name": "stdout",
     "output_type": "stream",
     "text": [
      "Test Accuracy: 0.9217\n"
     ]
    }
   ],
   "source": [
    "# Evaluate Model\n",
    "loss, accuracy = model.evaluate(X_test, y_test_cat, verbose=0)\n",
    "print(f\"Test Accuracy: {accuracy:.4f}\")"
   ]
  },
  {
   "cell_type": "markdown",
   "metadata": {},
   "source": [
    "## Classification Report"
   ]
  },
  {
   "cell_type": "code",
   "execution_count": 24,
   "metadata": {},
   "outputs": [
    {
     "name": "stdout",
     "output_type": "stream",
     "text": [
      "62/62 [==============================] - 2s 14ms/step\n",
      "\n",
      "Classification Report:\n",
      "              precision    recall  f1-score   support\n",
      "\n",
      "           A       0.80      0.56      0.66       195\n",
      "         MYL       0.99      0.98      0.98       195\n",
      "        NFLX       1.00      0.99      1.00       195\n",
      "         NFX       0.92      0.95      0.94       196\n",
      "          NI       0.91      0.89      0.90       196\n",
      "         NKE       0.99      1.00      1.00       195\n",
      "        NLSN       0.69      0.88      0.77       196\n",
      "         NOC       1.00      1.00      1.00       195\n",
      "         NOV       0.95      0.96      0.96       195\n",
      "         NRG       0.99      0.99      0.99       196\n",
      "\n",
      "    accuracy                           0.92      1954\n",
      "   macro avg       0.92      0.92      0.92      1954\n",
      "weighted avg       0.92      0.92      0.92      1954\n",
      "\n"
     ]
    }
   ],
   "source": [
    "# Classification Report\n",
    "y_pred = model.predict(X_test)\n",
    "y_pred_classes = np.argmax(y_pred, axis=1)\n",
    "y_true_classes = np.argmax(y_test_cat, axis=1)\n",
    "\n",
    "print(\"\\nClassification Report:\")\n",
    "print(classification_report(y_true_classes, y_pred_classes, target_names=label_encoder.classes_))"
   ]
  },
  {
   "cell_type": "code",
   "execution_count": 25,
   "metadata": {},
   "outputs": [
    {
     "data": {
      "image/png": "[encoded data removed]",
      "text/plain": [
       "<Figure size 1000x800 with 2 Axes>"
      ]
     },
     "metadata": {},
     "output_type": "display_data"
    }
   ],
   "source": [
    "# Confusion Matrix\n",
    "conf_matrix = confusion_matrix(y_true_classes, y_pred_classes, normalize='true')\n",
    "plt.figure(figsize=(10, 8))\n",
    "sns.heatmap(conf_matrix, annot=True, fmt=\".2f\", cmap=\"Blues\", \n",
    "            xticklabels=label_encoder.classes_, \n",
    "            yticklabels=label_encoder.classes_)\n",
    "plt.xlabel(\"Predicted Label\")\n",
    "plt.ylabel(\"True Label\")\n",
    "plt.title(\"Confusion Matrix (Normalized)\")\n",
    "plt.show()"
   ]
  },
  {
   "cell_type": "markdown",
   "metadata": {},
   "source": [
    "## Plot Training History"
   ]
  },
  {
   "cell_type": "code",
   "execution_count": 26,
   "metadata": {},
   "outputs": [
    {
     "data": {
      "image/png": "[encoded data removed]",
      "text/plain": [
       "<Figure size 1200x500 with 2 Axes>"
      ]
     },
     "metadata": {},
     "output_type": "display_data"
    }
   ],
   "source": [
    "# Plot Training History\n",
    "plt.figure(figsize=(12, 5))\n",
    "\n",
    "# Loss\n",
    "plt.subplot(1, 2, 1)\n",
    "plt.plot(history.history['loss'], label='Train Loss')\n",
    "plt.plot(history.history['val_loss'], label='Validation Loss')\n",
    "plt.title('Training & Validation Loss')\n",
    "plt.xlabel('Epoch')\n",
    "plt.ylabel('Loss')\n",
    "plt.legend()\n",
    "\n",
    "# Accuracy\n",
    "plt.subplot(1, 2, 2)\n",
    "plt.plot(history.history['accuracy'], label='Train Accuracy')\n",
    "plt.plot(history.history['val_accuracy'], label='Validation Accuracy')\n",
    "plt.title('Training & Validation Accuracy')\n",
    "plt.xlabel('Epoch')\n",
    "plt.ylabel('Accuracy')\n",
    "plt.legend()\n",
    "\n",
    "plt.tight_layout()\n",
    "plt.show()"
   ]
  }
 ],
 "metadata": {
  "kernelspec": {
   "display_name": "Python 3",
   "language": "python",
   "name": "python3"
  },
  "language_info": {
   "codemirror_mode": {
    "name": "ipython",
    "version": 3
   },
   "file_extension": ".py",
   "mimetype": "text/x-python",
   "name": "python",
   "nbconvert_exporter": "python",
   "pygments_lexer": "ipython3",
   "version": "3.11.5"
  }
 },
 "nbformat": 4,
 "nbformat_minor": 2
}
